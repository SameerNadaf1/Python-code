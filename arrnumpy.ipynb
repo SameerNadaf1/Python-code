{
  "nbformat": 4,
  "nbformat_minor": 0,
  "metadata": {
    "colab": {
      "name": "arrnumpy.ipynb",
      "provenance": [],
      "collapsed_sections": [],
      "authorship_tag": "ABX9TyN5Lz5fBMxz+4JRyKCfyeRZ",
      "include_colab_link": true
    },
    "kernelspec": {
      "name": "python3",
      "display_name": "Python 3"
    }
  },
  "cells": [
    {
      "cell_type": "markdown",
      "metadata": {
        "id": "view-in-github",
        "colab_type": "text"
      },
      "source": [
        "<a href=\"https://colab.research.google.com/github/SameerNadaf1/Python-code/blob/main/arrnumpy.ipynb\" target=\"_parent\"><img src=\"https://colab.research.google.com/assets/colab-badge.svg\" alt=\"Open In Colab\"/></a>"
      ]
    },
    {
      "cell_type": "code",
      "metadata": {
        "id": "xLUrRypeX96F"
      },
      "source": [
        "import numpy as np\n",
        "samplearray=np.array([[8,10.2,-3.5],[-4,5.125,-6.258]])\n",
        "samplearray.shape=(3,2)\n",
        "print(samplearray)\n",
        "samplearray.shape=(2,3)\n",
        "print(samplearray)\n",
        "samplearray.shape=(6,1)\n",
        "print(samplearray)"
      ],
      "execution_count": null,
      "outputs": []
    },
    {
      "cell_type": "markdown",
      "metadata": {
        "id": "T_B-sAxWbEOX"
      },
      "source": [
        "main maximum deviation  -> 22/03/2021"
      ]
    },
    {
      "cell_type": "code",
      "metadata": {
        "id": "6jBpWid0bIL-"
      },
      "source": [
        "import numpy as np\n",
        "normal_array=np.array([9,2,5,4,12,7,8,11,9,3,7,4,12,5,4,10,9,6,9,4,])\n",
        "print(normal_array)\n",
        "print(np.min(normal_array))\n",
        "#max\n",
        "print(np.max(normal_array))\n",
        "#mean\n",
        "print(np.mean(normal_array))\n",
        "#median\n",
        "print(np.median(normal_array))\n",
        "#sd\n",
        "print(np.std(normal_array))"
      ],
      "execution_count": null,
      "outputs": []
    },
    {
      "cell_type": "markdown",
      "metadata": {
        "id": "tKoBkWnpcmhq"
      },
      "source": [
        "          Airthmatic import numpy\n"
      ]
    },
    {
      "cell_type": "code",
      "metadata": {
        "id": "GcA2iKoOcsQH"
      },
      "source": [
        "import numpy \n",
        "myarray1 = numpy.array([2,2,2])\n",
        "myarray2 = numpy.array([3,3,3])\n",
        "print(\"the addition value is\",myarray1 + myarray2)\n",
        "print(\"the multification value is\",myarray1 * myarray2)\n"
      ],
      "execution_count": null,
      "outputs": []
    },
    {
      "cell_type": "markdown",
      "metadata": {
        "id": "yPaHTW6kd4fN"
      },
      "source": [
        "            Divide fuction"
      ]
    },
    {
      "cell_type": "code",
      "metadata": {
        "colab": {
          "base_uri": "https://localhost:8080/"
        },
        "id": "H12r6Evgd8WL",
        "outputId": "c14d9329-c0c5-490d-f8a4-f60d1ebec8af"
      },
      "source": [
        "import numpy as np\n",
        "arr1 = [2,27,2,21,23]\n",
        "arr2 = [2,3,4,5,6]\n",
        "print(\"arr1     :\",arr1)\n",
        "print(\"arr2     :\",arr2)\n",
        "out = np.divide(arr1,arr2)\n",
        "print(\"\\nOutput array :\\n\",out)"
      ],
      "execution_count": null,
      "outputs": [
        {
          "output_type": "stream",
          "text": [
            "arr1     : [2, 27, 2, 21, 23]\n",
            "arr2     : [2, 3, 4, 5, 6]\n",
            "\n",
            "Output array :\n",
            " [1.         9.         0.5        4.2        3.83333333]\n"
          ],
          "name": "stdout"
        }
      ]
    },
    {
      "cell_type": "markdown",
      "metadata": {
        "id": "SaYM9FuYfut4"
      },
      "source": [
        "        Range  in numpy"
      ]
    },
    {
      "cell_type": "code",
      "metadata": {
        "id": "3Wom6JCJf0LC"
      },
      "source": [
        "import numpy as np\n",
        "arrayvalue = np.arange(5)\n",
        "print(arrayvalue)\n",
        "arrayvalue = np.arange(5,25)\n",
        "print(arrayvalue)\n",
        "arrayvalue = np.arange(5,50,10)\n",
        "print(arrayvalue)"
      ],
      "execution_count": null,
      "outputs": []
    },
    {
      "cell_type": "markdown",
      "metadata": {
        "id": "B0l2xz6uhKmN"
      },
      "source": [
        "           All airthmatic function"
      ]
    },
    {
      "cell_type": "code",
      "metadata": {
        "id": "N0tAuXK2hQAw"
      },
      "source": [
        "import numpy \n",
        "myarray1 = numpy.array([2,2,2])\n",
        "myarray2 = numpy.array([3,3,3])\n",
        "print(\"The addition value is\",myarray1 + myarray2)\n",
        "print(\"The subtarction is\",myarray1 + myarray2)\n",
        "print(\"The multification value is\",myarray1 * myarray2)\n",
        "out = numpy.divide(myarray1,myarray2)\n",
        "print(\"The divission of an array is :\\n\",out)"
      ],
      "execution_count": null,
      "outputs": []
    },
    {
      "cell_type": "markdown",
      "metadata": {
        "id": "66vKZ8PPi_WY"
      },
      "source": [
        "          Dtype parameter to complex type"
      ]
    },
    {
      "cell_type": "code",
      "metadata": {
        "id": "24A1wq-VjH9t"
      },
      "source": [
        "import numpy as np\n",
        "a = np.array([1,2,3],dtype = complex)\n",
        "print(a)"
      ],
      "execution_count": null,
      "outputs": []
    },
    {
      "cell_type": "markdown",
      "metadata": {
        "id": "TNF2XDTekJED"
      },
      "source": [
        "          matrix "
      ]
    },
    {
      "cell_type": "code",
      "metadata": {
        "id": "U8D-4FyDkMO_"
      },
      "source": [
        "import numpy as np\n",
        "a = np.arange(24)\n",
        "b=a.reshape(2,4,3)\n",
        "print(b)\n",
        "\n",
        "\n",
        "import numpy as np\n",
        "a = np.arange(24)\n",
        "b=a.reshape(3,4,2)\n",
        "print(b)"
      ],
      "execution_count": null,
      "outputs": []
    },
    {
      "cell_type": "markdown",
      "metadata": {
        "id": "8YPF6O7ElCog"
      },
      "source": [
        "    All value repalce a zero\n",
        "    "
      ]
    },
    {
      "cell_type": "code",
      "metadata": {
        "id": "hhEnGNNLlHuT"
      },
      "source": [
        "import numpy as np\n",
        "x=np.zeros(5)\n",
        "print(x)"
      ],
      "execution_count": null,
      "outputs": []
    }
  ]
}