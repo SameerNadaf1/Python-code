{
  "nbformat": 4,
  "nbformat_minor": 0,
  "metadata": {
    "colab": {
      "name": "Tuples.ipynb",
      "provenance": [],
      "collapsed_sections": [],
      "authorship_tag": "ABX9TyMIuQoLAcummbD9Dm5cM/6S",
      "include_colab_link": true
    },
    "kernelspec": {
      "name": "python3",
      "display_name": "Python 3"
    }
  },
  "cells": [
    {
      "cell_type": "markdown",
      "metadata": {
        "id": "view-in-github",
        "colab_type": "text"
      },
      "source": [
        "<a href=\"https://colab.research.google.com/github/SameerNadaf1/Python-code/blob/main/Tuples.ipynb\" target=\"_parent\"><img src=\"https://colab.research.google.com/assets/colab-badge.svg\" alt=\"Open In Colab\"/></a>"
      ]
    },
    {
      "cell_type": "markdown",
      "metadata": {
        "id": "5S68_wcseuvu"
      },
      "source": [
        "USN:01FE2OMCA062\n",
        "\n",
        "NAME:SAMEER NADAF"
      ]
    },
    {
      "cell_type": "markdown",
      "metadata": {
        "id": "BfSLM-x1eHWT"
      },
      "source": [
        "Sample Tuple"
      ]
    },
    {
      "cell_type": "code",
      "metadata": {
        "id": "reonvNTGeMNI"
      },
      "source": [
        "tuple1=(\"first\",\"second\",\"third\")\n",
        "print (tuple1[0])\n",
        "print (tuple1[1])\n",
        "print (tuple1[2])"
      ],
      "execution_count": null,
      "outputs": []
    },
    {
      "cell_type": "markdown",
      "metadata": {
        "id": "DMvD9SlPeSh0"
      },
      "source": [
        "Sample Tuple 2"
      ]
    },
    {
      "cell_type": "code",
      "metadata": {
        "id": "mmevGXVbeqV2"
      },
      "source": [
        "tuple1=(\"first\",123456,12.25,\"###3%%%%\")\n",
        "print (tuple1)"
      ],
      "execution_count": null,
      "outputs": []
    },
    {
      "cell_type": "markdown",
      "metadata": {
        "id": "c97pbZV8etRu"
      },
      "source": [
        "Tuple of type"
      ]
    },
    {
      "cell_type": "code",
      "metadata": {
        "id": "S79mAgfie2u-"
      },
      "source": [
        "my_tuple = (\"hello\",123,12.25)\n",
        "print(type(my_tuple))\n",
        "var_int=100\n",
        "print(type(var_int))\n",
        "var2=100.25\n",
        "print(type(var2))\n",
        "var3=\"hello world\"\n",
        "print(type(var3))"
      ],
      "execution_count": null,
      "outputs": []
    },
    {
      "cell_type": "markdown",
      "metadata": {
        "id": "0-mhU-gGe6yN"
      },
      "source": [
        "Tuple Maximum no"
      ]
    },
    {
      "cell_type": "code",
      "metadata": {
        "id": "pX525-f0fA5e"
      },
      "source": [
        "print('Maximum is:', max(1, 3, 2, 5, 4))\n",
        "num = [1, 3, 2, 8, 5, 10, 6]\n",
        "print('Maximum is:', max(num))"
      ],
      "execution_count": null,
      "outputs": []
    },
    {
      "cell_type": "markdown",
      "metadata": {
        "id": "laVWIfG9fKxm"
      },
      "source": [
        "Tuple Length"
      ]
    },
    {
      "cell_type": "code",
      "metadata": {
        "id": "7Dg_UX-sfNvw"
      },
      "source": [
        "testTuple1 = (1, 2, 3)\n",
        "print(testTuple1, 'length is', len(testTuple1))\n",
        "testTuple2 = (\"abc\", \"xyz\", \"lmn\")\n",
        "print(testTuple2, 'length is', len(testTuple2))"
      ],
      "execution_count": null,
      "outputs": []
    },
    {
      "cell_type": "markdown",
      "metadata": {
        "id": "KZTZmJonfTo3"
      },
      "source": [
        "Vowels tuple index"
      ]
    },
    {
      "cell_type": "code",
      "metadata": {
        "id": "5Hegk-FGfcbA"
      },
      "source": [
        "vowels = ('a', 'e', 'i', 'o', 'i', 'u')\n",
        "\n",
        "index = vowels.index('e')\n",
        "\n",
        "print('The index of e:', index)\n",
        "\n",
        "index = vowels.index('i')\n",
        "\n",
        "print('The index of i:', index)"
      ],
      "execution_count": null,
      "outputs": []
    },
    {
      "cell_type": "markdown",
      "metadata": {
        "id": "4ImFtlYQffo_"
      },
      "source": [
        "Count tuples of vowels"
      ]
    },
    {
      "cell_type": "code",
      "metadata": {
        "id": "0ShjJKn_fpA-"
      },
      "source": [
        "vowels = ('a', 'e', 'i', 'o', 'i', 'o', 'e', 'i', 'u')\n",
        "count = vowels.count('i')\n",
        "print('The count of i is:', count)\n",
        "count = vowels.count('p')\n",
        "print('The count of p is:', count)"
      ],
      "execution_count": null,
      "outputs": []
    },
    {
      "cell_type": "markdown",
      "metadata": {
        "id": "UU8XLdQDfqvm"
      },
      "source": [
        "Minimum no of tuple"
      ]
    },
    {
      "cell_type": "code",
      "metadata": {
        "id": "lx0fDqU6evzP"
      },
      "source": [
        "print('Minimum is:', min(1, 3, 2, 5, 4))\n",
        "num = [3, 2, 8, 5, 10, 6]\n",
        "print('Minimum is:', min(num))"
      ],
      "execution_count": null,
      "outputs": []
    }
  ]
}