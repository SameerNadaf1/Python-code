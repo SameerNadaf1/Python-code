{
  "nbformat": 4,
  "nbformat_minor": 0,
  "metadata": {
    "colab": {
      "name": "ch1.ipynb",
      "provenance": [],
      "collapsed_sections": [],
      "authorship_tag": "ABX9TyOV0WK/USOVf4/c2eNrsa9F",
      "include_colab_link": true
    },
    "kernelspec": {
      "name": "python3",
      "display_name": "Python 3"
    }
  },
  "cells": [
    {
      "cell_type": "markdown",
      "metadata": {
        "id": "view-in-github",
        "colab_type": "text"
      },
      "source": [
        "<a href=\"https://colab.research.google.com/github/SameerNadaf1/Python-code/blob/main/ch1.ipynb\" target=\"_parent\"><img src=\"https://colab.research.google.com/assets/colab-badge.svg\" alt=\"Open In Colab\"/></a>"
      ]
    },
    {
      "cell_type": "markdown",
      "metadata": {
        "id": "wek_oMAYgHv1"
      },
      "source": [
        "Python code for Chapter-01\n"
      ]
    },
    {
      "cell_type": "markdown",
      "metadata": {
        "id": "N_38pT5gg8TD"
      },
      "source": [
        "                Airthmatic Oprators"
      ]
    },
    {
      "cell_type": "code",
      "metadata": {
        "id": "FElFUSGVguV7"
      },
      "source": [
        "x = 10\n",
        "y = 2\n",
        "print('x + y =',x+y)\n",
        "print('x - y =',x-y)\n",
        "print('x * y =',x*y)\n",
        "print('x / y =',x/y)\n",
        "print('x // y =',x//y)\n",
        "print('x ** y =',x**y)"
      ],
      "execution_count": null,
      "outputs": []
    },
    {
      "cell_type": "markdown",
      "metadata": {
        "id": "BWK3HZguidhZ"
      },
      "source": [
        "                  Complex number"
      ]
    },
    {
      "cell_type": "code",
      "metadata": {
        "id": "Po_hXxJAilIw"
      },
      "source": [
        "           x=2+3j\n",
        "           print(x)\n",
        "           y=4+5j\n",
        "           print(y)\n",
        "           print (x+y)\n",
        "           print (x-y)\n",
        "           print (x/y)\n"
      ],
      "execution_count": null,
      "outputs": []
    },
    {
      "cell_type": "markdown",
      "metadata": {
        "id": "rOeKgtRV4wrL"
      },
      "source": [
        "              Conjugate"
      ]
    },
    {
      "cell_type": "code",
      "metadata": {
        "id": "m1bp6YEa5J3t"
      },
      "source": [
        "        z=2+3j\n",
        "        y=z.conjugate()\n",
        "        print(y);"
      ],
      "execution_count": null,
      "outputs": []
    },
    {
      "cell_type": "markdown",
      "metadata": {
        "id": "wHGkzKMqr_0s"
      },
      "source": [
        "      Multiple Variable\n"
      ]
    },
    {
      "cell_type": "code",
      "metadata": {
        "id": "vFcXznS-sO-D"
      },
      "source": [
        "x=y=z=1\n",
        "print(x);\n",
        "print(y);\n",
        "print(z);\n"
      ],
      "execution_count": null,
      "outputs": []
    },
    {
      "cell_type": "markdown",
      "metadata": {
        "id": "jYFN6qty5oVm"
      },
      "source": [
        "            Multiple Variable"
      ]
    },
    {
      "cell_type": "code",
      "metadata": {
        "id": "DaGvyvbJ6vDh"
      },
      "source": [
        "         x=y=z=200\n",
        "         print (x)\n",
        "         print (y)\n",
        "         print (z)"
      ],
      "execution_count": null,
      "outputs": []
    },
    {
      "cell_type": "markdown",
      "metadata": {
        "id": "vVUvjoKDj8JM"
      },
      "source": [
        "Conditional satements if,else,if else."
      ]
    },
    {
      "cell_type": "markdown",
      "metadata": {
        "id": "xhf97DH0kaiN"
      },
      "source": [
        "           if,else"
      ]
    },
    {
      "cell_type": "code",
      "metadata": {
        "id": "pJhr10sDkkTg"
      },
      "source": [
        "var1=100\n",
        "if var1:\n",
        "    print(\"1- got a true expression values\")\n",
        "    print(var1)\n",
        "else:\n",
        "    print(\"1- got a false expression values\")\n",
        "    print(var1)\n",
        "\n",
        "var2 = 0\n",
        "if var2:\n",
        "    print(\"2- got a true expression values\")\n",
        "    print(var2)\n",
        "else:\n",
        "    print(\"2- got a false expression values\")\n",
        "    print(var2)\n",
        "    \n",
        "print(\"Good Bye\")\n",
        "\n",
        "#if else 2\n",
        "i = 20\n",
        "if(i < 15):\n",
        "    print(\"i is smaller than 15\")\n",
        "    print(\"i'm in if block\")\n",
        "else:\n",
        "    print(\"i is greater than 15\")\n",
        "    print(\"i'm in else block\")\n",
        "print(\"i am not if and not in else block\")"
      ],
      "execution_count": null,
      "outputs": []
    },
    {
      "cell_type": "markdown",
      "metadata": {
        "id": "I8cz0anWx6CP"
      },
      "source": [
        "String Oprations"
      ]
    },
    {
      "cell_type": "markdown",
      "metadata": {
        "id": "jP26P3tHUwws"
      },
      "source": [
        "    String print by index\n"
      ]
    },
    {
      "cell_type": "code",
      "metadata": {
        "id": "zYWfFLnzU3ZU"
      },
      "source": [
        "str1 = 'Hello World'\n",
        "str2 = \"Python Programming\"\n",
        "print (\"var1[0]: \",str1[0]);\n",
        "print (\"var2[1:5]: \",str2[1:5]);\n",
        "\n",
        "var1 = 'Hello World'\n",
        "print (\"Updated String :- \", var1[:6] + 'Python')"
      ],
      "execution_count": null,
      "outputs": []
    },
    {
      "cell_type": "markdown",
      "metadata": {
        "id": "dgHtcTr0U-MY"
      },
      "source": [
        "string concat"
      ]
    },
    {
      "cell_type": "code",
      "metadata": {
        "id": "h2Y8oA45VGZi"
      },
      "source": [
        "str1=\"hello\"\n",
        "str2=\"world\"\n",
        "str3=str1+str2\n",
        "print(str3)"
      ],
      "execution_count": null,
      "outputs": []
    },
    {
      "cell_type": "markdown",
      "metadata": {
        "id": "ArL-x1sZVMUn"
      },
      "source": [
        "String Concat 2"
      ]
    },
    {
      "cell_type": "code",
      "metadata": {
        "id": "G6SlrJo3VTX4"
      },
      "source": [
        "print(\"hello \"+\"world\")\n",
        "print(\"Nayak\"+\".\"+\"patil\")"
      ],
      "execution_count": null,
      "outputs": []
    },
    {
      "cell_type": "markdown",
      "metadata": {
        "id": "5TPyt61wVVkP"
      },
      "source": [
        "Sring New Line"
      ]
    },
    {
      "cell_type": "code",
      "metadata": {
        "id": "sVLoKK9gVZzQ"
      },
      "source": [
        "print(\"first message\\n\\n\");\n",
        "print(\"second message \\n\\n\\n\");"
      ],
      "execution_count": null,
      "outputs": []
    },
    {
      "cell_type": "markdown",
      "metadata": {
        "id": "MaffngNb3Z_6"
      },
      "source": [
        "Input Types"
      ]
    },
    {
      "cell_type": "markdown",
      "metadata": {
        "id": "6PNlYUglVw9f"
      },
      "source": [
        " input type 1"
      ]
    },
    {
      "cell_type": "code",
      "metadata": {
        "id": "0LREXkPfV2eH"
      },
      "source": [
        "var = input(\"Please enter something: \")\n",
        "print (\"you entered\", var)"
      ],
      "execution_count": null,
      "outputs": []
    },
    {
      "cell_type": "markdown",
      "metadata": {
        "id": "n1jcr-czV7yn"
      },
      "source": [
        "input type 2"
      ]
    },
    {
      "cell_type": "code",
      "metadata": {
        "id": "ICyQqdbeWEZM"
      },
      "source": [
        "name = input(\"What's your name? \")\n",
        "print(\"Nice to meet you \" + name + \"!\")\n",
        "age = input(\"Your age? \")\n",
        "print(\"So, you are already \" + str(age) + \n",
        "\" years old, \" + name + \"!\")"
      ],
      "execution_count": null,
      "outputs": []
    },
    {
      "cell_type": "markdown",
      "metadata": {
        "id": "OXIjPn-2WJ7J"
      },
      "source": [
        "  input type 3"
      ]
    },
    {
      "cell_type": "code",
      "metadata": {
        "id": "ryuGAWs13kXl"
      },
      "source": [
        "var1=int(input(\"Enter the first number\"))\n",
        "var2= int(input(\"Enter the second number\"))\n",
        "result= var1+var2\n",
        "print(\"sum of two no.s is \",result,\"\\n\")\n",
        "result= var1*var2\n",
        "print(\"Prod of two no.s is \",result,\"\\n\")\n",
        "result= var1-var2\n",
        "print(\"Sub of two no.s is \",result,\"\\n\")\n",
        "result= var1/var2\n",
        "print(\"Div of two no.s is \",result,\"\\n\")\n",
        "result= var1%var2\n",
        "print(\"Mod of two no.s is \",result,\"\\n\")\n",
        "result= var1**var2\n",
        "print(\"Pow of two no.s is \",result,\"\\n\")"
      ],
      "execution_count": null,
      "outputs": []
    },
    {
      "cell_type": "markdown",
      "metadata": {
        "id": "q7yngJ-Q4z25"
      },
      "source": [
        "            Mathemathicel oprations"
      ]
    },
    {
      "cell_type": "markdown",
      "metadata": {
        "id": "mLX1YuSVXwCI"
      },
      "source": [
        "       math ceil"
      ]
    },
    {
      "cell_type": "code",
      "metadata": {
        "id": "r0ITc8bFX0ry"
      },
      "source": [
        "import math   \n",
        "print (\"math.ceil(10.25) : \", math.ceil(10.25))\n",
        "print (\"math.ceil(2.95) : \", math.ceil(2.95))"
      ],
      "execution_count": null,
      "outputs": []
    },
    {
      "cell_type": "markdown",
      "metadata": {
        "id": "x0SELjYuX9ar"
      },
      "source": [
        "           math"
      ]
    },
    {
      "cell_type": "code",
      "metadata": {
        "id": "qKKZF_qdYJAY"
      },
      "source": [
        "import math   \n",
        "print (\"math.e : \", math.e)"
      ],
      "execution_count": null,
      "outputs": []
    },
    {
      "cell_type": "markdown",
      "metadata": {
        "id": "_ElQOUlbYQFE"
      },
      "source": [
        "        math fab"
      ]
    },
    {
      "cell_type": "code",
      "metadata": {
        "id": "kHvBxb53YX8a"
      },
      "source": [
        "import math   \n",
        "print (\"math.fabs(-10) : \", math.fabs(-10))\n",
        "print (\"math.fabs(-23) : \", math.fabs(-23))"
      ],
      "execution_count": null,
      "outputs": []
    },
    {
      "cell_type": "markdown",
      "metadata": {
        "id": "vnYH4fb1Ydkx"
      },
      "source": [
        "          Factorial"
      ]
    },
    {
      "cell_type": "code",
      "metadata": {
        "id": "pdnuKJnLYl76"
      },
      "source": [
        "import math   \n",
        "print(\"math.factorial(5) : \", math.factorial(5));\n",
        "#print(\"math.factorial(8) : \", math.factorial(-8));"
      ],
      "execution_count": null,
      "outputs": []
    },
    {
      "cell_type": "markdown",
      "metadata": {
        "id": "fYKPT9UQYpoJ"
      },
      "source": [
        "         math Floor"
      ]
    },
    {
      "cell_type": "code",
      "metadata": {
        "id": "_6jIEskfYzjM"
      },
      "source": [
        "import math   \n",
        "print(\"math.floor(10.25) : \", math.floor(10.25))\n",
        "print(\"math.floor(2.95) : \", math.floor(2.95))"
      ],
      "execution_count": null,
      "outputs": []
    },
    {
      "cell_type": "markdown",
      "metadata": {
        "id": "2Xzv0YnLY4Tr"
      },
      "source": [
        "             Fmod"
      ]
    },
    {
      "cell_type": "code",
      "metadata": {
        "id": "-tdJXRe7Y9Xk"
      },
      "source": [
        "import math   \n",
        "print (\"math.fmod(2,3) : \", math.fmod(23.75,10))\n",
        "print (\"math.fmod(3,5) : \", math.fmod(38.275,9))"
      ],
      "execution_count": null,
      "outputs": []
    },
    {
      "cell_type": "markdown",
      "metadata": {
        "id": "PFa3FwWwZHyl"
      },
      "source": [
        "          Log function 1"
      ]
    },
    {
      "cell_type": "code",
      "metadata": {
        "id": "hAvmjSniZRMm"
      },
      "source": [
        "import math   \n",
        "x=10.25\n",
        "y=math.log10(x)\n",
        "print(\"The Math Log10 value of x is\",y)"
      ],
      "execution_count": null,
      "outputs": []
    },
    {
      "cell_type": "markdown",
      "metadata": {
        "id": "ng11QxYCZYQ2"
      },
      "source": [
        "         Log function 2"
      ]
    },
    {
      "cell_type": "code",
      "metadata": {
        "id": "A1v98sjaZhms"
      },
      "source": [
        "import math   \n",
        "x=10.25\n",
        "y=math.log1p(x)\n",
        "print(\"The Math Log1p value of x is\",y)"
      ],
      "execution_count": null,
      "outputs": []
    },
    {
      "cell_type": "markdown",
      "metadata": {
        "id": "qCHQiYzXZlil"
      },
      "source": [
        "         pie function"
      ]
    },
    {
      "cell_type": "code",
      "metadata": {
        "id": "Z_PRX9nQZt3R"
      },
      "source": [
        "import math   \n",
        "print (\"math.pi : \", math.pi)"
      ],
      "execution_count": null,
      "outputs": []
    },
    {
      "cell_type": "markdown",
      "metadata": {
        "id": "4CI9rUV4Zx-L"
      },
      "source": [
        "            power function"
      ]
    },
    {
      "cell_type": "code",
      "metadata": {
        "id": "NCOe45kiZ7jg"
      },
      "source": [
        "import math   \n",
        "print (\"math.pow(100, 2) : \", math.pow(100, 2))\n",
        "print (\"math.pow(100, -2) : \", math.pow(100, -2))"
      ],
      "execution_count": null,
      "outputs": []
    },
    {
      "cell_type": "markdown",
      "metadata": {
        "id": "mkk9gjq7Z_cp"
      },
      "source": [
        "        Square Root function"
      ]
    },
    {
      "cell_type": "code",
      "metadata": {
        "id": "dSc7h1LSaIR4"
      },
      "source": [
        "import math   \n",
        "x=100\n",
        "y=math.sqrt(x)\n",
        "print(\"The Math squareroot value of x is\",y)"
      ],
      "execution_count": null,
      "outputs": []
    },
    {
      "cell_type": "markdown",
      "metadata": {
        "id": "-_6BrMR1NHLR"
      },
      "source": [
        "Python code for List and Tuples"
      ]
    },
    {
      "cell_type": "markdown",
      "metadata": {
        "id": "V9gBexXbO8PE"
      },
      "source": [
        "          Lists"
      ]
    },
    {
      "cell_type": "code",
      "metadata": {
        "id": "wU04F1bbPA9v"
      },
      "source": [
        "#Sample List\n",
        "list1=[1,2,3,\"abc\",\"xyz\"]\n",
        "print (list1[0])\n",
        "print (list1[3])\n",
        "\n",
        "#sample list 2\n",
        "list1=[1,2,3,\"abc\",\"xyz\"]\n",
        "print (list1[-1])\n",
        "print (list1[-2])\n",
        "\n",
        "#Maximum number\n",
        "list1, list2 = [10, 20, 300],['aaa', 'abc','cde','zzz']\n",
        "print (\"Max of First list : \", max(list1))\n",
        "print (\"Max of Second list : \", max(list2))\n",
        "\n",
        "#Minimum number\n",
        "list1, list2 = [10, 20, 300], ['aaa', 'abc','cde','zzz']\n",
        "print (\"Min of First list : \", min(list1))\n",
        "print (\"Min of Second list : \", min(list2))\n",
        "\n",
        "#List Pop Operation\n",
        "List1 = [123, 200, 456, 500];\n",
        "List1.pop(2)\n",
        "print (\"Updated List after pop 2 operation: \", List1)\n",
        "List1.pop(0)\n",
        "print (\"Updated List after pop 0 operation: \", List1)\n",
        "\n",
        "#List Reverce function\n",
        "List1 = [123, 'aaa', 'bbb', 'ccc', 'ddd'];\n",
        "List1.reverse();\n",
        "print (\"List reverse function: \", List1)\n",
        "\n",
        "#List append \n",
        "List1 = [123, 'xyz', 456, 'abc'];\n",
        "List1.append( 2017 );\n",
        "print (\"Updated List : \", List1)\n",
        "\n",
        "#List index\n",
        "List1 = [123, 200, 456, 500];\n",
        "print (\"Count of List1 for 123: \", List1.index(123))\n",
        "print (\"Count of List1 for 200: \", List1.index(200))\n",
        " \n",
        "#List insert\n",
        "List1 = [123, 200, 456, 500];\n",
        "List1.insert(3,600)\n",
        "print (\"Updated List after insertion 600: \",List1)\n",
        "List1.insert(1,1000)\n",
        "print (\"Updated List after insertion 1000: \",List1)\n",
        "\n",
        "#List Length\n",
        "list1, list2 = [10, 'xyz', 'abc'], [220, 'abc']\n",
        "print (\"Length of First list : \", len(list1))\n",
        "print (\"Length of Second list : \", len(list2))\n",
        "\n",
        "#List Length\n",
        "List1 = [123, 200, 456, 200];\n",
        "print (\"Count of List1 for 123: \", List1.count(123))\n",
        "print (\"Count of List1 for 200: \", List1.count(200))\n",
        "listlength=len(List1)\n",
        "print(listlength)\n",
        "\n",
        "#Deletion of list\n",
        "my_list = ['p','r','o','g','r','a','m','m','i','n','g']\n",
        "3\n",
        "# delete one item\n",
        "del my_list[2]\n",
        "print(my_list)\n",
        "# delete multiple items\n",
        "del my_list[1:5]\n",
        "print(my_list)\n",
        "# delete entire list\n",
        "del my_list"
      ],
      "execution_count": null,
      "outputs": []
    },
    {
      "cell_type": "markdown",
      "metadata": {
        "id": "GXDXmxlMUhWj"
      },
      "source": [
        "           Tuples"
      ]
    },
    {
      "cell_type": "code",
      "metadata": {
        "id": "nZNoXWliUsHw"
      },
      "source": [
        "#Sample Tuple\n",
        "tuple1=(\"first\",\"second\",\"third\")\n",
        "print (tuple1[0])\n",
        "print (tuple1[1])\n",
        "print (tuple1[2])\n",
        "\n",
        "#Sample Tuple 2\n",
        "tuple1=(\"first\",123456,12.25,\"###3%%%%\")\n",
        "print (tuple1[0])\n",
        "print (tuple1[1])\n",
        "print (tuple1[2])\n",
        "print (tuple1[3])\n",
        "\n",
        "tuple1=(\"first\",123456,12.25,\"###3%%%%\")\n",
        "print (tuple1)\n",
        "\n",
        "#Tuple of type\n",
        "my_tuple = (\"hello\",123,12.25)\n",
        "print(type(my_tuple))\n",
        "var_int=100\n",
        "print(type(var_int))\n",
        "var2=100.25\n",
        "print(type(var2))\n",
        "var3=\"hello world\"\n",
        "print(type(var3))\n",
        "\n",
        "#Tuple Maximum no\n",
        "print('Maximum is:', max(1, 3, 2, 5, 4))\n",
        "num = [1, 3, 2, 8, 5, 10, 6]\n",
        "print('Maximum is:', max(num))\n",
        "\n",
        "#Tuple Length\n",
        "testTuple1 = (1, 2, 3)\n",
        "print(testTuple1, 'length is', len(testTuple1))\n",
        "testTuple2 = (\"abc\", \"xyz\", \"lmn\")\n",
        "print(testTuple2, 'length is', len(testTuple2))\n",
        "\n",
        "# Vowels tuple index\n",
        "vowels = ('a', 'e', 'i', 'o', 'i', 'u')\n",
        "\n",
        "index = vowels.index('e')\n",
        "\n",
        "print('The index of e:', index)\n",
        "\n",
        "index = vowels.index('i')\n",
        "\n",
        "print('The index of i:', index)\n",
        "\n",
        "# Count tuples of vowels\n",
        "vowels = ('a', 'e', 'i', 'o', 'i', 'o', 'e', 'i', 'u')\n",
        "count = vowels.count('i')\n",
        "print('The count of i is:', count)\n",
        "count = vowels.count('p')\n",
        "print('The count of p is:', count)\n",
        "\n",
        "#Minimum no of tuple\n",
        "print('Minimum is:', min(1, 3, 2, 5, 4))\n",
        "num = [3, 2, 8, 5, 10, 6]\n",
        "print('Minimum is:', min(num))"
      ],
      "execution_count": null,
      "outputs": []
    }
  ]
}