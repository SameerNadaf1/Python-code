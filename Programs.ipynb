{
  "nbformat": 4,
  "nbformat_minor": 0,
  "metadata": {
    "colab": {
      "name": "Programs.ipynb",
      "provenance": [],
      "collapsed_sections": [],
      "authorship_tag": "ABX9TyNXgUxxEgY2E3wag/XcK9Dz",
      "include_colab_link": true
    },
    "kernelspec": {
      "name": "python3",
      "display_name": "Python 3"
    }
  },
  "cells": [
    {
      "cell_type": "markdown",
      "metadata": {
        "id": "view-in-github",
        "colab_type": "text"
      },
      "source": [
        "<a href=\"https://colab.research.google.com/github/SameerNadaf1/Python-code/blob/main/Programs.ipynb\" target=\"_parent\"><img src=\"https://colab.research.google.com/assets/colab-badge.svg\" alt=\"Open In Colab\"/></a>"
      ]
    },
    {
      "cell_type": "markdown",
      "metadata": {
        "id": "CmBb5eg4gaVF"
      },
      "source": [
        "Python programs \n"
      ]
    },
    {
      "cell_type": "markdown",
      "metadata": {
        "id": "rPjLPFtWhPRj"
      },
      "source": [
        "Python Program to perform airthmatic operations"
      ]
    },
    {
      "cell_type": "code",
      "metadata": {
        "id": "MqcV_fRxhRWK"
      },
      "source": [
        "var1=int(input(\"enter the first number\"))\n",
        "var2=int(input(\"enter the second number\"))\n",
        "result=var1+var2\n",
        "print(\"sum of two numbers is:\",result,\"\\n\")\n",
        "result=var1*var2\n",
        "print(\"product of two numbers is:\",result,\"\\n\")\n",
        "result=var1-var2\n",
        "print(\"subtraction of two numbers is:\",result,\"\\n\")\n",
        "result=var1/var2\n",
        "print(\"division of two numbers is:\",result,\"\\n\")\n",
        "result=var1%var2\n",
        "print(\"mod of two numbers is:\",result,\"\\n\")"
      ],
      "execution_count": null,
      "outputs": []
    },
    {
      "cell_type": "markdown",
      "metadata": {
        "id": "V84mWHvqh19P"
      },
      "source": [
        "Python Program to find area of square,length,breadth,aoc."
      ]
    },
    {
      "cell_type": "code",
      "metadata": {
        "id": "pm3r3X9ciEpr"
      },
      "source": [
        "import math\n",
        "length=int(input(\"enter the length\"))\n",
        "breadth=int(input(\"enter the breadth\"))\n",
        "area=length*breadth\n",
        "print(\"area of rectangle is is:\",area,\"\\n\")\n",
        "\n",
        "\n",
        "per=2*(length+breadth)\n",
        "print(\"perimeter of rectangle is is:\",per,\"\\n\")\n",
        "\n",
        "radius=int(input(\"enter the radius\"))\n",
        "area=3.142*radius*radius\n",
        "print(\"area of circle is:\",area,\"\\n\")\n",
        "\n",
        "\n",
        "a=int(input(\"enter the value of a\"))\n",
        "b=int(input(\"enter the value of b\"))\n",
        "c=int(input(\"enter the value of c\"))\n",
        "\n",
        "s=a+b+c\n",
        "s=s/2\n",
        "\n",
        "area=(s*(s-a)*(s-b)*(s-c))\n",
        "\n",
        "result=math.sqrt(area)\n",
        "\n",
        "print(\"area of triangle is is:\",result,\"\\n\")\n"
      ],
      "execution_count": null,
      "outputs": []
    },
    {
      "cell_type": "markdown",
      "metadata": {
        "id": "5Pbl6QZ0lje5"
      },
      "source": [
        "Python Program to perform methematicel functions.\n"
      ]
    },
    {
      "cell_type": "code",
      "metadata": {
        "id": "K_j88EDglsTe"
      },
      "source": [
        "import math\n",
        "b=int(input(\"Enter a choice\"))\n",
        "if b == 1:\n",
        "    a=int(input(\"Enter a number\"))\n",
        "    print(\"factorial of \",a,\"is:\",math.factorial(a))\n",
        "elif b == 2:\n",
        "    a=float(input(\"Enter a number\"))\n",
        "    print(\"ceil value of \",b,\"is:\",math.ceil(a))\n",
        "elif b == 3:\n",
        "    a=float(input(\"Enter a number\"))\n",
        "    print(\"floor value of \",b,\"is:\",math.floor(a))\n",
        "elif b == 4:\n",
        "    a=int(input(\"Enter a number\"))\n",
        "    print(\"log value of \",b,\"is:\",math.log(a))\n",
        "else:\n",
        "    print(\"Enter valid choice\")"
      ],
      "execution_count": null,
      "outputs": []
    },
    {
      "cell_type": "markdown",
      "metadata": {
        "id": "lvnx41BgmMBZ"
      },
      "source": [
        "Python Program to calculate the sum of n natuarl  no's."
      ]
    },
    {
      "cell_type": "code",
      "metadata": {
        "id": "SJXPaY36mVjh"
      },
      "source": [
        "a = int(input(\"Enter the choice\"))\n",
        "n=int(input(\"Enter a value\"))\n",
        "while(a < n):\n",
        "     \n",
        "    res = (n*(n+1))/2\n",
        "    print(\"sum of natural numbers is\",res)\n",
        "    res = (n*(n+1)*(2*n+1))/6\n",
        "    print(\"sum of sqaures of natural numbers is\",res)\n",
        "    res= (n*n*(n+1)**2)/4\n",
        "    print(\"sum of cubes of natural numbers is\",res)\n",
        "    break"
      ],
      "execution_count": null,
      "outputs": []
    },
    {
      "cell_type": "markdown",
      "metadata": {
        "id": "vUgMkRDBmtC9"
      },
      "source": [
        "Python Program to calculate simple intrest and compound intrest."
      ]
    },
    {
      "cell_type": "code",
      "metadata": {
        "id": "Qp2CtV_fm7ph"
      },
      "source": [
        "principal = float(input('Enter amount: '))\n",
        "time = float(input('Enter time: '))\n",
        "rate = float(input('Enter rate: '))\n",
        "\n",
        "# Calcualtion\n",
        "simple_interest = (principal*time*rate)/100\n",
        "compound_interest = principal * ( (1+rate/100)**time - 1)\n",
        "\n",
        "# Displaying result\n",
        "print('Simple interest is: %f' %(simple_interest))\n",
        "print('Compound interest is: %f' %(compound_interest))"
      ],
      "execution_count": null,
      "outputs": []
    },
    {
      "cell_type": "markdown",
      "metadata": {
        "id": "tXii4qCDnAYd"
      },
      "source": [
        "Python Program to calculate Root of quedratic equation."
      ]
    },
    {
      "cell_type": "code",
      "metadata": {
        "id": "FR94I0N3nJne"
      },
      "source": [
        "import math \n",
        "a=int(input(\"Enter the value of a \"))\n",
        "b=int(input(\"Enter the value of b \"))\n",
        "c=int(input(\"Enter the value of c \"))\n",
        "d= math.sqrt(b*b-4*a*c)\n",
        "x=(-1*b+d)/(2*a) \n",
        "y=(-1*b-d)/(2*a) \n",
        "print(\"The roots of equation are\",x,y)"
      ],
      "execution_count": null,
      "outputs": []
    },
    {
      "cell_type": "markdown",
      "metadata": {
        "id": "dFookOdNpqsB"
      },
      "source": [
        " Python Program to Convert km into miles and meters "
      ]
    },
    {
      "cell_type": "code",
      "metadata": {
        "id": "hYTGStu0pu1-"
      },
      "source": [
        "print(\"****MENU****\")\n",
        "print(\"1.Convertion of km into miles\") \n",
        "print(\"2.Convertion of km into meters\") \n",
        "choice= int(input(\"Enter your choice: \")) \n",
        "if (choice==1): \n",
        "    var1= int(input(\"Enter the km: \"))     \n",
        "    print(\"The number of miles is\",var1*0.62,\"\\n\") \n",
        "elif (choice==2): \n",
        "    var1= int(input(\"Enter the km: \")) \n",
        "    print(\"The number of meters is\",var1*1000,\"\\n\") \n",
        "else: \n",
        "    print(\"error\") \n"
      ],
      "execution_count": null,
      "outputs": []
    },
    {
      "cell_type": "markdown",
      "metadata": {
        "id": "Idf7ySbuqxf9"
      },
      "source": [
        "Python Program to mean diviation."
      ]
    },
    {
      "cell_type": "code",
      "metadata": {
        "id": "AS6gcbSxq5hS"
      },
      "source": [
        "list1=[3,6,6,7,8,11,15,16]\n",
        "n=len(list1)\n",
        "\n",
        "mean=sum(list1)/n\n",
        "\n",
        "sum1=0\n",
        "sum2=0\n",
        "i=0\n",
        "while(i < n):\n",
        "    res=(list1[i]-mean)\n",
        "    if res < 0:\n",
        "        \n",
        "        ress=(-1*res)\n",
        "        sum1=sum1+ress\n",
        "        \n",
        "    else:\n",
        "        sum2=sum2+res\n",
        "    i+=1\n",
        "\n",
        "\n",
        "summ=sum1+sum2\n",
        "\n",
        "print(\"mean Deviation is:\",summ/n)"
      ],
      "execution_count": null,
      "outputs": []
    },
    {
      "cell_type": "markdown",
      "metadata": {
        "id": "eQ9Sh6rEcRkN"
      },
      "source": [
        "Python code to Perform different file operationes\n",
        "\n"
      ]
    },
    {
      "cell_type": "code",
      "metadata": {
        "id": "XBl285-scmt-"
      },
      "source": [
        "x=input(\"Enter file name: \")\n",
        "fo = open(x,\"w\")\n",
        "print (\"Name of the file: \", fo.name)\n",
        "fo.write( \"This is file content \")\n",
        "fo = open(x, \"r\")\n",
        "str = fo.read(6);\n",
        "print (\"Read String is : \", str)\n",
        "fo.close()\n",
        "import shutil\n",
        "y=input(\"Enter file name to be renamed: \")\n",
        "shutil.move(x,y)\n",
        "print(\"File Renamed successfully\")\n",
        "import os\n",
        "os.remove(y)\n",
        "print(\"File DELETED  successfully\")\n"
      ],
      "execution_count": null,
      "outputs": []
    }
  ]
}