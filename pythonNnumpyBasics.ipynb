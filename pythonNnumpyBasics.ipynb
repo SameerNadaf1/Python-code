{
  "nbformat": 4,
  "nbformat_minor": 0,
  "metadata": {
    "colab": {
      "name": "pythonNnumpyBasics",
      "provenance": [],
      "collapsed_sections": [],
      "include_colab_link": true
    },
    "kernelspec": {
      "name": "python3",
      "display_name": "Python 3"
    },
    "language_info": {
      "name": "python"
    }
  },
  "cells": [
    {
      "cell_type": "markdown",
      "metadata": {
        "id": "view-in-github",
        "colab_type": "text"
      },
      "source": [
        "<a href=\"https://colab.research.google.com/github/SameerNadaf1/Python-code/blob/main/pythonNnumpyBasics.ipynb\" target=\"_parent\"><img src=\"https://colab.research.google.com/assets/colab-badge.svg\" alt=\"Open In Colab\"/></a>"
      ]
    },
    {
      "cell_type": "code",
      "metadata": {
        "colab": {
          "base_uri": "https://localhost:8080/"
        },
        "id": "8hc2dZZUHy-u",
        "outputId": "34476989-c0ae-43bf-bc3a-7b4ff568cf53"
      },
      "source": [
        "x = 3\n",
        "print(type(x)) # Prints \"<class 'int'>\"\n",
        "print(x)       # Prints \"3\"\n",
        "print(x + 1)   # Addition; prints \"4\"\n",
        "print(x - 1)   # Subtraction; prints \"2\"\n",
        "print(x * 2)   # Multiplication; prints \"6\"\n",
        "print(x ** 2)  # Exponentiation; prints \"9\"\n",
        "x += 1\n",
        "print(x)  # Prints \"4\"\n",
        "x *= 2\n",
        "print(x)  # Prints \"8\"\n",
        "y = 2.5\n",
        "print(type(y)) # Prints \"<class 'float'>\"\n",
        "print(y, y + 1, y * 2, y ** 2) # Prints \"2.5 3.5 5.0 6.25\""
      ],
      "execution_count": null,
      "outputs": [
        {
          "output_type": "stream",
          "text": [
            "<class 'int'>\n",
            "3\n",
            "4\n",
            "2\n",
            "6\n",
            "9\n",
            "4\n",
            "8\n",
            "<class 'float'>\n",
            "2.5 3.5 5.0 6.25\n"
          ],
          "name": "stdout"
        }
      ]
    },
    {
      "cell_type": "markdown",
      "metadata": {
        "id": "AkywRcijIorG"
      },
      "source": [
        "Booleans: Python implements all of the usual operators for Boolean logic, but uses English words rather than symbols (&&, ||, etc.):"
      ]
    },
    {
      "cell_type": "code",
      "metadata": {
        "colab": {
          "base_uri": "https://localhost:8080/"
        },
        "id": "i98pOZMmH-rs",
        "outputId": "8005f58f-ce4e-42c4-f778-8b7fb722875d"
      },
      "source": [
        "t = True\n",
        "f = False\n",
        "print(type(t)) # Prints \"<class 'bool'>\"\n",
        "print(t and f) # Logical AND; prints \"False\"\n",
        "print(t or f)  # Logical OR; prints \"True\"\n",
        "print(not t)   # Logical NOT; prints \"False\"\n",
        "print(t != f)  # Logical XOR; prints \"True\""
      ],
      "execution_count": null,
      "outputs": [
        {
          "output_type": "stream",
          "text": [
            "<class 'bool'>\n",
            "False\n",
            "True\n",
            "False\n",
            "True\n"
          ],
          "name": "stdout"
        }
      ]
    },
    {
      "cell_type": "markdown",
      "metadata": {
        "id": "I2tAuKSGIu8U"
      },
      "source": [
        "Strings: Python has great support for strings:"
      ]
    },
    {
      "cell_type": "code",
      "metadata": {
        "colab": {
          "base_uri": "https://localhost:8080/"
        },
        "id": "ZFCoiS2GIbpL",
        "outputId": "460cfbd2-98a1-407a-b046-bfb76be7eed2"
      },
      "source": [
        "hello = 'hello'    # String literals can use single quotes\n",
        "world = \"world\"    # or double quotes; it does not matter.\n",
        "print(hello)       # Prints \"hello\"\n",
        "print(len(hello))  # String length; prints \"5\"\n",
        "hw = hello + ' ' + world  # String concatenation\n",
        "print(hw)  # prints \"hello world\"\n",
        "hw12 = '%s %s %d' % (hello, world, 12)  # sprintf style string formatting\n",
        "print(hw12)  # prints \"hello world 12\""
      ],
      "execution_count": null,
      "outputs": [
        {
          "output_type": "stream",
          "text": [
            "hello\n",
            "5\n",
            "hello world\n",
            "hello world 12\n"
          ],
          "name": "stdout"
        }
      ]
    },
    {
      "cell_type": "markdown",
      "metadata": {
        "id": "y55UkS4CI3HM"
      },
      "source": [
        "String objects have a bunch of useful methods; for example:"
      ]
    },
    {
      "cell_type": "code",
      "metadata": {
        "colab": {
          "base_uri": "https://localhost:8080/"
        },
        "id": "meSa7ol1IdEp",
        "outputId": "49371bf0-5cef-413d-b086-a6a8824f31de"
      },
      "source": [
        "s = \"hello\"\n",
        "print(s.capitalize())  # Capitalize a string; prints \"Hello\"\n",
        "print(s.upper())       # Convert a string to uppercase; prints \"HELLO\"\n",
        "print(s.rjust(7))      # Right-justify a string, padding with spaces; prints \"  hello\"\n",
        "print(s.center(7))     # Center a string, padding with spaces; prints \" hello \"\n",
        "print(s.replace('l', '(ell)'))  # Replace all instances of one substring with another;\n",
        "                                # prints \"he(ell)(ell)o\"\n",
        "print('  world '.strip())  # Strip leading and trailing whitespace; prints \"world\""
      ],
      "execution_count": null,
      "outputs": [
        {
          "output_type": "stream",
          "text": [
            "Hello\n",
            "HELLO\n",
            "  hello\n",
            " hello \n",
            "he(ell)(ell)o\n",
            "world\n"
          ],
          "name": "stdout"
        }
      ]
    },
    {
      "cell_type": "markdown",
      "metadata": {
        "id": "PSSYccV7JF1c"
      },
      "source": [
        "String objects have a bunch of useful methods; for example:\n",
        "  "
      ]
    },
    {
      "cell_type": "code",
      "metadata": {
        "colab": {
          "base_uri": "https://localhost:8080/"
        },
        "id": "aqi2xEdKJIks",
        "outputId": "30e63385-ddda-4e27-a10a-ad5cef8f928b"
      },
      "source": [
        "xs = [3, 1, 2]    # Create a list\n",
        "print(xs, xs[2])  # Prints \"[3, 1, 2] 2\"\n",
        "print(xs[-1])     # Negative indices count from the end of the list; prints \"2\"\n",
        "xs[2] = 'foo'     # Lists can contain elements of different types\n",
        "print(xs)         # Prints \"[3, 1, 'foo']\"\n",
        "xs.append('bar')  # Add a new element to the end of the list\n",
        "print(xs)         # Prints \"[3, 1, 'foo', 'bar']\"\n",
        "x = xs.pop()      # Remove and return the last element of the list\n",
        "print(x, xs)      # Prints \"bar [3, 1, 'foo']\""
      ],
      "execution_count": null,
      "outputs": [
        {
          "output_type": "stream",
          "text": [
            "[3, 1, 2] 2\n",
            "2\n",
            "[3, 1, 'foo']\n",
            "[3, 1, 'foo', 'bar']\n",
            "bar [3, 1, 'foo']\n"
          ],
          "name": "stdout"
        }
      ]
    },
    {
      "cell_type": "markdown",
      "metadata": {
        "id": "dwDHsGy3JZR5"
      },
      "source": [
        "Slicing: In addition to accessing list elements one at a time, Python provides concise syntax to access sublists; this is known as slicing:"
      ]
    },
    {
      "cell_type": "code",
      "metadata": {
        "colab": {
          "base_uri": "https://localhost:8080/"
        },
        "id": "dYoaMWC6Jcsx",
        "outputId": "d254259e-5de1-4d3a-dfbe-d8f345e74a46"
      },
      "source": [
        "nums = list(range(5))     # range is a built-in function that creates a list of integers\n",
        "print(nums)               # Prints \"[0, 1, 2, 3, 4]\"\n",
        "print(nums[2:4])          # Get a slice from index 2 to 4 (exclusive); prints \"[2, 3]\"\n",
        "print(nums[2:])           # Get a slice from index 2 to the end; prints \"[2, 3, 4]\"\n",
        "print(nums[:2])           # Get a slice from the start to index 2 (exclusive); prints \"[0, 1]\"\n",
        "print(nums[:])            # Get a slice of the whole list; prints \"[0, 1, 2, 3, 4]\"\n",
        "print(nums[:-1])          # Slice indices can be negative; prints \"[0, 1, 2, 3]\"\n",
        "nums[2:4] = [8, 9]        # Assign a new sublist to a slice\n",
        "print(nums)               # Prints \"[0, 1, 8, 9, 4]\""
      ],
      "execution_count": null,
      "outputs": [
        {
          "output_type": "stream",
          "text": [
            "[0, 1, 2, 3, 4]\n",
            "[2, 3]\n",
            "[2, 3, 4]\n",
            "[0, 1]\n",
            "[0, 1, 2, 3, 4]\n",
            "[0, 1, 2, 3]\n",
            "[0, 1, 8, 9, 4]\n"
          ],
          "name": "stdout"
        }
      ]
    },
    {
      "cell_type": "code",
      "metadata": {
        "id": "47LRczLkIhFh"
      },
      "source": [
        ""
      ],
      "execution_count": null,
      "outputs": []
    },
    {
      "cell_type": "markdown",
      "metadata": {
        "id": "uofIWRA-JnDz"
      },
      "source": [
        "Loops: You can loop over the elements of a list like this:"
      ]
    },
    {
      "cell_type": "code",
      "metadata": {
        "colab": {
          "base_uri": "https://localhost:8080/"
        },
        "id": "T4PjFi2aJoLE",
        "outputId": "2a8387af-8641-47bd-ca07-0ae6534da571"
      },
      "source": [
        "animals = ['cat', 'dog', 'monkey']\n",
        "for animal in animals:\n",
        "    print(animal)\n",
        "# Prints \"cat\", \"dog\", \"monkey\", each on its own line."
      ],
      "execution_count": null,
      "outputs": [
        {
          "output_type": "stream",
          "text": [
            "cat\n",
            "dog\n",
            "monkey\n"
          ],
          "name": "stdout"
        }
      ]
    },
    {
      "cell_type": "code",
      "metadata": {
        "id": "_opGa0rIJzSv"
      },
      "source": [
        ""
      ],
      "execution_count": null,
      "outputs": []
    },
    {
      "cell_type": "markdown",
      "metadata": {
        "id": "ingmMdmmJ0jL"
      },
      "source": [
        "If you want access to the index of each element within the body of a loop, use the built-in enumerate function:"
      ]
    },
    {
      "cell_type": "code",
      "metadata": {
        "colab": {
          "base_uri": "https://localhost:8080/"
        },
        "id": "ClenM_DyJ1sV",
        "outputId": "a7bafe3c-165b-475c-826c-42139a3dffd1"
      },
      "source": [
        "animals = ['cat', 'dog', 'monkey']\n",
        "for idx, animal in enumerate(animals):\n",
        "    print('#%d: %s' % (idx + 1, animal))\n",
        "# Prints \"#1: cat\", \"#2: dog\", \"#3: monkey\", each on its own line"
      ],
      "execution_count": null,
      "outputs": [
        {
          "output_type": "stream",
          "text": [
            "#1: cat\n",
            "#2: dog\n",
            "#3: monkey\n"
          ],
          "name": "stdout"
        }
      ]
    },
    {
      "cell_type": "code",
      "metadata": {
        "id": "jnwjFZ0aJ4lO"
      },
      "source": [
        ""
      ],
      "execution_count": null,
      "outputs": []
    },
    {
      "cell_type": "markdown",
      "metadata": {
        "id": "5OjViySDJ7n4"
      },
      "source": [
        "List comprehensions: When programming, frequently we want to transform one type of data into another. As a simple example, consider the following code that computes square numbers:"
      ]
    },
    {
      "cell_type": "code",
      "metadata": {
        "id": "4VxnWkj3J8sK",
        "colab": {
          "base_uri": "https://localhost:8080/"
        },
        "outputId": "eca08c1a-35d0-4896-a8fb-1ad3aa2cd852"
      },
      "source": [
        "nums = [0, 1, 2, 3, 4]\n",
        "squares = []\n",
        "for x in nums:\n",
        "    squares.append(x ** 2)\n",
        "print(squares)   # Prints [0, 1, 4, 9, 16]"
      ],
      "execution_count": null,
      "outputs": [
        {
          "output_type": "stream",
          "text": [
            "[0, 1, 4, 9, 16]\n"
          ],
          "name": "stdout"
        }
      ]
    },
    {
      "cell_type": "markdown",
      "metadata": {
        "id": "KrEy9GnNKH6S"
      },
      "source": [
        "You can make this code simpler using a list comprehension:"
      ]
    },
    {
      "cell_type": "code",
      "metadata": {
        "id": "WmVn7xKYKIvL",
        "colab": {
          "base_uri": "https://localhost:8080/"
        },
        "outputId": "815cc5d0-415c-4992-c648-b865e2ebabd4"
      },
      "source": [
        "nums = [0, 1, 2, 3, 4]\n",
        "squares = [x ** 2 for x in nums]\n",
        "print(squares)   # Prints [0, 1, 4, 9, 16]"
      ],
      "execution_count": null,
      "outputs": [
        {
          "output_type": "stream",
          "text": [
            "[0, 1, 4, 9, 16]\n"
          ],
          "name": "stdout"
        }
      ]
    },
    {
      "cell_type": "markdown",
      "metadata": {
        "id": "vHf9S-NJKNao"
      },
      "source": [
        "List comprehensions can also contain conditions:"
      ]
    },
    {
      "cell_type": "code",
      "metadata": {
        "id": "OXOZ8c9eKOUI",
        "colab": {
          "base_uri": "https://localhost:8080/"
        },
        "outputId": "004a25de-3773-45fd-eb84-e3d3dd706798"
      },
      "source": [
        "nums = [0, 1, 2, 3, 4]\n",
        "even_squares = [x ** 2 for x in nums if x % 2 == 0]\n",
        "print(even_squares)  # Prints \"[0, 4, 16]\""
      ],
      "execution_count": null,
      "outputs": [
        {
          "output_type": "stream",
          "text": [
            "[0, 4, 16]\n"
          ],
          "name": "stdout"
        }
      ]
    },
    {
      "cell_type": "markdown",
      "metadata": {
        "id": "zT2a6HjUKREQ"
      },
      "source": [
        "Dictionaries\n",
        "A dictionary stores (key, value) pairs, similar to a Map in Java or an object in Javascript. You can use it like this:"
      ]
    },
    {
      "cell_type": "code",
      "metadata": {
        "id": "BxARhxDdKahb",
        "colab": {
          "base_uri": "https://localhost:8080/"
        },
        "outputId": "e0219099-e87c-4b9d-b7cb-3f9b85103435"
      },
      "source": [
        "d = {'cat': 'cute', 'dog': 'furry'}  # Create a new dictionary with some data\n",
        "print(d['cat'])       # Get an entry from a dictionary; prints \"cute\"\n",
        "print('cat' in d)     # Check if a dictionary has a given key; prints \"True\"\n",
        "d['fish'] = 'wet'     # Set an entry in a dictionary\n",
        "print(d['fish'])      # Prints \"wet\"\n",
        "# print(d['monkey'])  # KeyError: 'monkey' not a key of d\n",
        "print(d.get('monkey', 'N/A'))  # Get an element with a default; prints \"N/A\"\n",
        "print(d.get('fish', 'N/A'))    # Get an element with a default; prints \"wet\"\n",
        "del d['fish']         # Remove an element from a dictionary\n",
        "print(d.get('fish', 'N/A')) # \"fish\" is no longer a key; prints \"N/A\""
      ],
      "execution_count": null,
      "outputs": [
        {
          "output_type": "stream",
          "text": [
            "cute\n",
            "True\n",
            "wet\n",
            "N/A\n",
            "wet\n",
            "N/A\n"
          ],
          "name": "stdout"
        }
      ]
    },
    {
      "cell_type": "markdown",
      "metadata": {
        "id": "lcXwSA1pKbZ4"
      },
      "source": [
        "Loops: It is easy to iterate over the keys in a dictionary:"
      ]
    },
    {
      "cell_type": "code",
      "metadata": {
        "id": "1A5BhNgUKfGb",
        "colab": {
          "base_uri": "https://localhost:8080/"
        },
        "outputId": "2d22d790-07f0-4d54-a17e-8049215a3685"
      },
      "source": [
        "d = {'person': 2, 'cat': 4, 'spider': 8}\n",
        "for animal in d:\n",
        "    legs = d[animal]\n",
        "    print('A %s has %d legs' % (animal, legs))\n",
        "# Prints \"A person has 2 legs\", \"A cat has 4 legs\", \"A spider has 8 legs\""
      ],
      "execution_count": null,
      "outputs": [
        {
          "output_type": "stream",
          "text": [
            "A person has 2 legs\n",
            "A cat has 4 legs\n",
            "A spider has 8 legs\n"
          ],
          "name": "stdout"
        }
      ]
    },
    {
      "cell_type": "markdown",
      "metadata": {
        "id": "PojkYYSfKh5q"
      },
      "source": [
        "If you want access to keys and their corresponding values, use the items method:"
      ]
    },
    {
      "cell_type": "code",
      "metadata": {
        "id": "5AJ77QAeKowz",
        "colab": {
          "base_uri": "https://localhost:8080/"
        },
        "outputId": "48317c28-d27c-48d2-ea12-c1c9163a2eb1"
      },
      "source": [
        "d = {'person': 2, 'cat': 4, 'spider': 8}\n",
        "for animal, legs in d.items():\n",
        "    print('A %s has %d legs' % (animal, legs))\n",
        "# Prints \"A person has 2 legs\", \"A cat has 4 legs\", \"A spider has 8 legs\""
      ],
      "execution_count": null,
      "outputs": [
        {
          "output_type": "stream",
          "text": [
            "A person has 2 legs\n",
            "A cat has 4 legs\n",
            "A spider has 8 legs\n"
          ],
          "name": "stdout"
        }
      ]
    },
    {
      "cell_type": "markdown",
      "metadata": {
        "id": "6srx8G7HKrsb"
      },
      "source": [
        "Dictionary comprehensions: These are similar to list comprehensions, but allow you to easily construct dictionaries. For example:"
      ]
    },
    {
      "cell_type": "code",
      "metadata": {
        "id": "sGhFOP3GKuvr",
        "colab": {
          "base_uri": "https://localhost:8080/"
        },
        "outputId": "811716d7-5106-458e-c94a-cf0b382ac26d"
      },
      "source": [
        "nums = [0, 1, 2, 3, 4]\n",
        "even_num_to_square = {x: x ** 2 for x in nums if x % 2 == 0}\n",
        "print(even_num_to_square)  # Prints \"{0: 0, 2: 4, 4: 16}\""
      ],
      "execution_count": null,
      "outputs": [
        {
          "output_type": "stream",
          "text": [
            "{0: 0, 2: 4, 4: 16}\n"
          ],
          "name": "stdout"
        }
      ]
    },
    {
      "cell_type": "markdown",
      "metadata": {
        "id": "3Or4sEb_KzMY"
      },
      "source": [
        "Sets\n",
        "A set is an unordered collection of distinct elements. As a simple example, consider the following:"
      ]
    },
    {
      "cell_type": "code",
      "metadata": {
        "id": "zXwzX7-GK34v",
        "colab": {
          "base_uri": "https://localhost:8080/"
        },
        "outputId": "7c7b0011-15fa-4673-b98c-5e3206ca2509"
      },
      "source": [
        "animals = {'cat', 'dog'}\n",
        "print('cat' in animals)   # Check if an element is in a set; prints \"True\"\n",
        "print('fish' in animals)  # prints \"False\"\n",
        "animals.add('fish')       # Add an element to a set\n",
        "print('fish' in animals)  # Prints \"True\"\n",
        "print(len(animals))       # Number of elements in a set; prints \"3\"\n",
        "animals.add('cat')        # Adding an element that is already in the set does nothing\n",
        "print(len(animals))       # Prints \"3\"\n",
        "animals.remove('cat')     # Remove an element from a set\n",
        "print(len(animals))       # Prints \"2\""
      ],
      "execution_count": null,
      "outputs": [
        {
          "output_type": "stream",
          "text": [
            "True\n",
            "False\n",
            "True\n",
            "3\n",
            "3\n",
            "2\n"
          ],
          "name": "stdout"
        }
      ]
    },
    {
      "cell_type": "markdown",
      "metadata": {
        "id": "3-5pVWhAK7OX"
      },
      "source": [
        "Loops: Iterating over a set has the same syntax as iterating over a list; however since sets are unordered, you cannot make assumptions about the order in which you visit the elements of the set:"
      ]
    },
    {
      "cell_type": "code",
      "metadata": {
        "id": "T91OdukUK-hM",
        "colab": {
          "base_uri": "https://localhost:8080/"
        },
        "outputId": "f183a3ed-fa25-4b96-d324-95507b4342c9"
      },
      "source": [
        "animals = {'cat', 'dog', 'fish'}\n",
        "for idx, animal in enumerate(animals):\n",
        "    print('#%d: %s' % (idx + 1, animal))\n",
        "# Prints \"#1: fish\", \"#2: dog\", \"#3: cat\""
      ],
      "execution_count": null,
      "outputs": [
        {
          "output_type": "stream",
          "text": [
            "#1: cat\n",
            "#2: fish\n",
            "#3: dog\n"
          ],
          "name": "stdout"
        }
      ]
    },
    {
      "cell_type": "markdown",
      "metadata": {
        "id": "8-_gNCSXLBkc"
      },
      "source": [
        "Set comprehensions: Like lists and dictionaries, we can easily construct sets using set comprehensions:"
      ]
    },
    {
      "cell_type": "code",
      "metadata": {
        "id": "o4v5_Z9gLFQg",
        "colab": {
          "base_uri": "https://localhost:8080/"
        },
        "outputId": "ee1a3adc-61ac-40ad-d334-1049676cf06c"
      },
      "source": [
        "from math import sqrt\n",
        "nums = {int(sqrt(x)) for x in range(30)}\n",
        "print(nums)  # Prints \"{0, 1, 2, 3, 4, 5}\""
      ],
      "execution_count": null,
      "outputs": [
        {
          "output_type": "stream",
          "text": [
            "{0, 1, 2, 3, 4, 5}\n"
          ],
          "name": "stdout"
        }
      ]
    },
    {
      "cell_type": "markdown",
      "metadata": {
        "id": "Z_Voa7N4LHzy"
      },
      "source": [
        "Tuples\n",
        "A tuple is an (immutable) ordered list of values. A tuple is in many ways similar to a list; one of the most important differences is that tuples can be used as keys in dictionaries and as elements of sets, while lists cannot. Here is a trivial example:"
      ]
    },
    {
      "cell_type": "code",
      "metadata": {
        "id": "waaIJsk9LLEj",
        "colab": {
          "base_uri": "https://localhost:8080/"
        },
        "outputId": "d0cfb14e-a46d-4735-b034-415dadc61dc0"
      },
      "source": [
        "d = {(x, x + 1): x for x in range(10)}  # Create a dictionary with tuple keys\n",
        "t = (5, 6)        # Create a tuple\n",
        "print(type(t))    # Prints \"<class 'tuple'>\"\n",
        "print(d[t])       # Prints \"5\"\n",
        "print(d[(1, 2)])  # Prints \"1\""
      ],
      "execution_count": null,
      "outputs": [
        {
          "output_type": "stream",
          "text": [
            "<class 'tuple'>\n",
            "5\n",
            "1\n"
          ],
          "name": "stdout"
        }
      ]
    },
    {
      "cell_type": "markdown",
      "metadata": {
        "id": "Qg79XBqxLNhy"
      },
      "source": [
        "Functions\n",
        "Python functions are defined using the def keyword. For example:"
      ]
    },
    {
      "cell_type": "code",
      "metadata": {
        "id": "gcbpQuSyLQ4v",
        "colab": {
          "base_uri": "https://localhost:8080/"
        },
        "outputId": "6262ba79-84bc-44c8-ee52-8b1aa1e094b6"
      },
      "source": [
        "def sign(x):\n",
        "    if x > 0:\n",
        "        return 'positive'\n",
        "    elif x < 0:\n",
        "        return 'negative'\n",
        "    else:\n",
        "        return 'zero'\n",
        "\n",
        "for x in [-1, 0, 1]:\n",
        "    print(sign(x))\n",
        "# Prints \"negative\", \"zero\", \"positive\""
      ],
      "execution_count": null,
      "outputs": [
        {
          "output_type": "stream",
          "text": [
            "negative\n",
            "zero\n",
            "positive\n"
          ],
          "name": "stdout"
        }
      ]
    },
    {
      "cell_type": "markdown",
      "metadata": {
        "id": "RM9ccHqCLTlR"
      },
      "source": [
        "def hello(name, loud=False):\n",
        "    if loud:\n",
        "        print('HELLO, %s!' % name.upper())\n",
        "    else:\n",
        "        print('Hello, %s' % name)\n",
        "\n",
        "hello('Bob') # Prints \"Hello, Bob\"\n",
        "hello('Fred', loud=True)  # Prints \"HELLO, FRED!\""
      ]
    },
    {
      "cell_type": "markdown",
      "metadata": {
        "id": "qb5SFcawLYRc"
      },
      "source": [
        "Classes\n",
        "The syntax for defining classes in Python is straightforward:"
      ]
    },
    {
      "cell_type": "code",
      "metadata": {
        "id": "fiYuGtbrLpAP",
        "colab": {
          "base_uri": "https://localhost:8080/"
        },
        "outputId": "37d9b27a-7901-41d1-e603-b92354e797ba"
      },
      "source": [
        "class Greeter(object):\n",
        "\n",
        "    # Constructor\n",
        "    def __init__(self, name):\n",
        "        self.name = name  # Create an instance variable\n",
        "\n",
        "    # Instance method\n",
        "    def greet(self, loud=False):\n",
        "        if loud:\n",
        "            print('HELLO, %s!' % self.name.upper())\n",
        "        else:\n",
        "            print('Hello, %s' % self.name)\n",
        "\n",
        "g = Greeter('Fred')  # Construct an instance of the Greeter class\n",
        "g.greet()            # Call an instance method; prints \"Hello, Fred\"\n",
        "g.greet(loud=True)   # Call an instance method; prints \"HELLO, FRED!\""
      ],
      "execution_count": null,
      "outputs": [
        {
          "output_type": "stream",
          "text": [
            "Hello, Fred\n",
            "HELLO, FRED!\n"
          ],
          "name": "stdout"
        }
      ]
    },
    {
      "cell_type": "markdown",
      "metadata": {
        "id": "5sXWRuFWLrhn"
      },
      "source": [
        "Numpy\n",
        "Numpy is the core library for scientific computing in Python. It provides a high-performance multidimensional array object, and tools for working with these arrays. "
      ]
    },
    {
      "cell_type": "markdown",
      "metadata": {
        "id": "QI12Is1nLw9-"
      },
      "source": [
        "Arrays\n",
        "A numpy array is a grid of values, all of the same type, and is indexed by a tuple of nonnegative integers. The number of dimensions is the rank of the array; the shape of an array is a tuple of integers giving the size of the array along each dimension.\n",
        "\n",
        "We can initialize numpy arrays from nested Python lists, and access elements using square brackets:"
      ]
    },
    {
      "cell_type": "code",
      "metadata": {
        "id": "msSjesQZL02B",
        "colab": {
          "base_uri": "https://localhost:8080/"
        },
        "outputId": "d2095c03-237e-42bb-fbb2-110a41d600ae"
      },
      "source": [
        "import numpy as np\n",
        "\n",
        "a = np.array([1, 2, 3])   # Create a rank 1 array\n",
        "print(type(a))            # Prints \"<class 'numpy.ndarray'>\"\n",
        "print(a.shape)            # Prints \"(3,)\"\n",
        "print(a[0], a[1], a[2])   # Prints \"1 2 3\"\n",
        "a[0] = 5                  # Change an element of the array\n",
        "print(a)                  # Prints \"[5, 2, 3]\"\n",
        "\n",
        "\n",
        "b = np.array([[1,2,3],[4,5,6]])    # Create a rank 2 array\n",
        "print(b.shape)                     # Prints \"(2, 3)\"\n",
        "print(b[0, 0], b[0, 1], b[1, 0])   # Prints \"1 2 4\""
      ],
      "execution_count": null,
      "outputs": [
        {
          "output_type": "stream",
          "text": [
            "<class 'numpy.ndarray'>\n",
            "(3,)\n",
            "1 2 3\n",
            "[5 2 3]\n",
            "(2, 3)\n",
            "1 2 4\n"
          ],
          "name": "stdout"
        }
      ]
    },
    {
      "cell_type": "markdown",
      "metadata": {
        "id": "YGeOv1E5RDXK"
      },
      "source": [
        "Numpy also provides many functions to create arrays:"
      ]
    },
    {
      "cell_type": "code",
      "metadata": {
        "id": "AoTIRomOREM_",
        "colab": {
          "base_uri": "https://localhost:8080/"
        },
        "outputId": "525371db-8140-4194-8b9e-ad7e3864bf29"
      },
      "source": [
        "import numpy as np\n",
        "\n",
        "a = np.zeros((2,2))   # Create an array of all zeros\n",
        "print(a)              # Prints \"[[ 0.  0.]\n",
        "                      #          [ 0.  0.]]\"\n",
        "\n",
        "b = np.ones((1,2))    # Create an array of all ones\n",
        "print(b)              # Prints \"[[ 1.  1.]]\"\n",
        "\n",
        "c = np.full((2,2), 7)  # Create a constant array\n",
        "print(c)               # Prints \"[[ 7.  7.]\n",
        "                       #          [ 7.  7.]]\"\n",
        "\n",
        "d = np.eye(2)         # Create a 2x2 identity matrix\n",
        "print(d)              # Prints \"[[ 1.  0.]\n",
        "                      #          [ 0.  1.]]\"\n",
        "\n",
        "e = np.random.random((2,2))  # Create an array filled with random values\n",
        "print(e)                     # Might print \"[[ 0.91940167  0.08143941]\n",
        "                             #               [ 0.68744134  0.87236687]]\""
      ],
      "execution_count": null,
      "outputs": [
        {
          "output_type": "stream",
          "text": [
            "[[0. 0.]\n",
            " [0. 0.]]\n",
            "[[1. 1.]]\n",
            "[[7 7]\n",
            " [7 7]]\n",
            "[[1. 0.]\n",
            " [0. 1.]]\n",
            "[[0.70326783 0.7574099 ]\n",
            " [0.62557363 0.62696176]]\n"
          ],
          "name": "stdout"
        }
      ]
    },
    {
      "cell_type": "markdown",
      "metadata": {
        "id": "GGO4JsABRHZm"
      },
      "source": [
        "Array indexing\n",
        "Numpy offers several ways to index into arrays.\n",
        "\n",
        "Slicing: Similar to Python lists, numpy arrays can be sliced. Since arrays may be multidimensional, you must specify a slice for each dimension of the array:"
      ]
    },
    {
      "cell_type": "code",
      "metadata": {
        "id": "gjz3N7VdRPN-",
        "colab": {
          "base_uri": "https://localhost:8080/"
        },
        "outputId": "2860dded-d113-48b4-99b1-53383f0fa7d7"
      },
      "source": [
        "import numpy as np\n",
        "\n",
        "# Create the following rank 2 array with shape (3, 4)\n",
        "# [[ 1  2  3  4]\n",
        "#  [ 5  6  7  8]\n",
        "#  [ 9 10 11 12]]\n",
        "a = np.array([[1,2,3,4], [5,6,7,8], [9,10,11,12]])\n",
        "\n",
        "# Use slicing to pull out the subarray consisting of the first 2 rows\n",
        "# and columns 1 and 2; b is the following array of shape (2, 2):\n",
        "# [[2 3]\n",
        "#  [6 7]]\n",
        "b = a[:2, 1:3]\n",
        "\n",
        "# A slice of an array is a view into the same data, so modifying it\n",
        "# will modify the original array.\n",
        "print(a[0, 1])   # Prints \"2\"\n",
        "b[0, 0] = 77     # b[0, 0] is the same piece of data as a[0, 1]\n",
        "print(a[0, 1])   # Prints \"77\""
      ],
      "execution_count": null,
      "outputs": [
        {
          "output_type": "stream",
          "text": [
            "2\n",
            "77\n"
          ],
          "name": "stdout"
        }
      ]
    },
    {
      "cell_type": "code",
      "metadata": {
        "id": "F-Qw9LEsRVbe"
      },
      "source": [
        ""
      ],
      "execution_count": null,
      "outputs": []
    },
    {
      "cell_type": "markdown",
      "metadata": {
        "id": "DBzgIXT2Rrlt"
      },
      "source": [
        "Integer array indexing: When you index into numpy arrays using slicing, the resulting array view will always be a subarray of the original array. In contrast, integer array indexing allows you to construct arbitrary arrays using the data from another array. Here is an example:"
      ]
    },
    {
      "cell_type": "code",
      "metadata": {
        "id": "whql4-ZGRudt",
        "colab": {
          "base_uri": "https://localhost:8080/"
        },
        "outputId": "6cb35615-7cfc-4e11-8b67-a2886627bac7"
      },
      "source": [
        "import numpy as np\n",
        "\n",
        "a = np.array([[1,2], [3, 4], [5, 6]])\n",
        "\n",
        "# An example of integer array indexing.\n",
        "# The returned array will have shape (3,) and\n",
        "print(a[[0, 1, 2], [0, 1, 0]])  # Prints \"[1 4 5]\"\n",
        "\n",
        "# The above example of integer array indexing is equivalent to this:\n",
        "print(np.array([a[0, 0], a[1, 1], a[2, 0]]))  # Prints \"[1 4 5]\"\n",
        "\n",
        "# When using integer array indexing, you can reuse the same\n",
        "# element from the source array:\n",
        "print(a[[0, 0], [1, 1]])  # Prints \"[2 2]\"\n",
        "\n",
        "# Equivalent to the previous integer array indexing example\n",
        "print(np.array([a[0, 1], a[0, 1]]))  # Prints \"[2 2]\""
      ],
      "execution_count": null,
      "outputs": [
        {
          "output_type": "stream",
          "text": [
            "[1 4 5]\n",
            "[1 4 5]\n",
            "[2 2]\n",
            "[2 2]\n"
          ],
          "name": "stdout"
        }
      ]
    },
    {
      "cell_type": "markdown",
      "metadata": {
        "id": "wt1GlCgyRxcV"
      },
      "source": [
        "One useful trick with integer array indexing is selecting or mutating one element from each row of a matrix:"
      ]
    },
    {
      "cell_type": "code",
      "metadata": {
        "id": "GLDYlz4bR1sl",
        "colab": {
          "base_uri": "https://localhost:8080/"
        },
        "outputId": "7a59d7e0-093b-4c87-9527-e0a3d1c10abf"
      },
      "source": [
        "import numpy as np\n",
        "\n",
        "# Create a new array from which we will select elements\n",
        "a = np.array([[1,2,3], [4,5,6], [7,8,9], [10, 11, 12]])\n",
        "\n",
        "print(a)  # prints \"array([[ 1,  2,  3],\n",
        "          #                [ 4,  5,  6],\n",
        "          #                [ 7,  8,  9],\n",
        "          #                [10, 11, 12]])\"\n",
        "\n",
        "# Create an array of indices\n",
        "b = np.array([0, 2, 0, 1])\n",
        "\n",
        "# Select one element from each row of a using the indices in b\n",
        "print(a[np.arange(4), b])  # Prints \"[ 1  6  7 11]\"\n",
        "\n",
        "# Mutate one element from each row of a using the indices in b\n",
        "a[np.arange(4), b] += 10\n",
        "\n",
        "print(a)  # prints \"array([[11,  2,  3],\n",
        "          #                [ 4,  5, 16],\n",
        "          #                [17,  8,  9],\n",
        "          #                [10, 21, 12]])"
      ],
      "execution_count": null,
      "outputs": [
        {
          "output_type": "stream",
          "text": [
            "[[ 1  2  3]\n",
            " [ 4  5  6]\n",
            " [ 7  8  9]\n",
            " [10 11 12]]\n",
            "[ 1  6  7 11]\n",
            "[[11  2  3]\n",
            " [ 4  5 16]\n",
            " [17  8  9]\n",
            " [10 21 12]]\n"
          ],
          "name": "stdout"
        }
      ]
    },
    {
      "cell_type": "markdown",
      "metadata": {
        "id": "ROwDjY_dR7A9"
      },
      "source": [
        "Boolean array indexing: Boolean array indexing lets you pick out arbitrary elements of an array. Frequently this type of indexing is used to select the elements of an array that satisfy some condition. Here is an example:"
      ]
    },
    {
      "cell_type": "code",
      "metadata": {
        "id": "ctEBdy39SAss",
        "colab": {
          "base_uri": "https://localhost:8080/"
        },
        "outputId": "72ef52c9-a5e1-4c80-bc86-8bbd5b528a73"
      },
      "source": [
        "import numpy as np\n",
        "\n",
        "a = np.array([[1,2], [3, 4], [5, 6]])\n",
        "\n",
        "bool_idx = (a > 2)   # Find the elements of a that are bigger than 2;\n",
        "                     # this returns a numpy array of Booleans of the same\n",
        "                     # shape as a, where each slot of bool_idx tells\n",
        "                     # whether that element of a is > 2.\n",
        "\n",
        "print(bool_idx)      # Prints \"[[False False]\n",
        "                     #          [ True  True]\n",
        "                     #          [ True  True]]\"\n",
        "\n",
        "# We use boolean array indexing to construct a rank 1 array\n",
        "# consisting of the elements of a corresponding to the True values\n",
        "# of bool_idx\n",
        "print(a[bool_idx])  # Prints \"[3 4 5 6]\"\n",
        "\n",
        "# We can do all of the above in a single concise statement:\n",
        "print(a[a > 2])     # Prints \"[3 4 5 6]\""
      ],
      "execution_count": null,
      "outputs": [
        {
          "output_type": "stream",
          "text": [
            "[[False False]\n",
            " [ True  True]\n",
            " [ True  True]]\n",
            "[3 4 5 6]\n",
            "[3 4 5 6]\n"
          ],
          "name": "stdout"
        }
      ]
    },
    {
      "cell_type": "markdown",
      "metadata": {
        "id": "ejBHA61tSD6k"
      },
      "source": [
        "Datatypes\n",
        "Every numpy array is a grid of elements of the same type. Numpy provides a large set of numeric datatypes that you can use to construct arrays. Numpy tries to guess a datatype when you create an array, but functions that construct arrays usually also include an optional argument to explicitly specify the datatype. Here is an example:"
      ]
    },
    {
      "cell_type": "code",
      "metadata": {
        "id": "EbBc8RQySKEz",
        "colab": {
          "base_uri": "https://localhost:8080/"
        },
        "outputId": "061764e7-5a0c-4784-d9e5-a269fdc1876e"
      },
      "source": [
        "import numpy as np\n",
        "\n",
        "x = np.array([1, 2])   # Let numpy choose the datatype\n",
        "print(x.dtype)         # Prints \"int64\"\n",
        "\n",
        "x = np.array([1.0, 2.0])   # Let numpy choose the datatype\n",
        "print(x.dtype)             # Prints \"float64\"\n",
        "\n",
        "x = np.array([1, 2], dtype=np.int64)   # Force a particular datatype\n",
        "print(x.dtype)                         # Prints \"int64\""
      ],
      "execution_count": null,
      "outputs": [
        {
          "output_type": "stream",
          "text": [
            "int64\n",
            "float64\n",
            "int64\n"
          ],
          "name": "stdout"
        }
      ]
    },
    {
      "cell_type": "markdown",
      "metadata": {
        "id": "LEyp67vkSNcU"
      },
      "source": [
        "Array math\n",
        "Basic mathematical functions operate elementwise on arrays, and are available both as operator overloads and as functions in the numpy module:"
      ]
    },
    {
      "cell_type": "code",
      "metadata": {
        "id": "5TAUCHypSOMD",
        "colab": {
          "base_uri": "https://localhost:8080/"
        },
        "outputId": "edadb9b4-2f7b-435c-e026-de7304fa6b3f"
      },
      "source": [
        "import numpy as np\n",
        "\n",
        "x = np.array([[1,2],[3,4]], dtype=np.float64)\n",
        "y = np.array([[5,6],[7,8]], dtype=np.float64)\n",
        "\n",
        "# Elementwise sum; both produce the array\n",
        "# [[ 6.0  8.0]\n",
        "#  [10.0 12.0]]\n",
        "print(x + y)\n",
        "print(np.add(x, y))\n",
        "\n",
        "# Elementwise difference; both produce the array\n",
        "# [[-4.0 -4.0]\n",
        "#  [-4.0 -4.0]]\n",
        "print(x - y)\n",
        "print(np.subtract(x, y))\n",
        "\n",
        "# Elementwise product; both produce the array\n",
        "# [[ 5.0 12.0]\n",
        "#  [21.0 32.0]]\n",
        "print(x * y)\n",
        "print(np.multiply(x, y))\n",
        "\n",
        "# Elementwise division; both produce the array\n",
        "# [[ 0.2         0.33333333]\n",
        "#  [ 0.42857143  0.5       ]]\n",
        "print(x / y)\n",
        "print(np.divide(x, y))\n",
        "\n",
        "# Elementwise square root; produces the array\n",
        "# [[ 1.          1.41421356]\n",
        "#  [ 1.73205081  2.        ]]\n",
        "print(np.sqrt(x))"
      ],
      "execution_count": null,
      "outputs": [
        {
          "output_type": "stream",
          "text": [
            "[[ 6.  8.]\n",
            " [10. 12.]]\n",
            "[[ 6.  8.]\n",
            " [10. 12.]]\n",
            "[[-4. -4.]\n",
            " [-4. -4.]]\n",
            "[[-4. -4.]\n",
            " [-4. -4.]]\n",
            "[[ 5. 12.]\n",
            " [21. 32.]]\n",
            "[[ 5. 12.]\n",
            " [21. 32.]]\n",
            "[[0.2        0.33333333]\n",
            " [0.42857143 0.5       ]]\n",
            "[[0.2        0.33333333]\n",
            " [0.42857143 0.5       ]]\n",
            "[[1.         1.41421356]\n",
            " [1.73205081 2.        ]]\n"
          ],
          "name": "stdout"
        }
      ]
    },
    {
      "cell_type": "markdown",
      "metadata": {
        "id": "ERD92f3aTGbl"
      },
      "source": [
        "We instead use the dot function to compute inner products of vectors, to multiply a vector by a matrix, and to multiply matrices. dot is available both as a function in the numpy module and as an instance method of array objects:"
      ]
    },
    {
      "cell_type": "code",
      "metadata": {
        "colab": {
          "base_uri": "https://localhost:8080/",
          "height": 128
        },
        "id": "TPO7XAodMdxZ",
        "outputId": "afa7bffc-e676-4159-99ab-03eae977f0ee"
      },
      "source": [
        "import numpy as np\n",
        "\n",
        "x = np.array([[1,2],[3,4]])\n",
        "y = np.array([[5,6],[7,8]])\n",
        "\n",
        "v = np.array([9,10]) \n",
        " w = np.array([11, 12])\n",
        "# Inner product of vectors; both produce 219\n",
        "print(v.dot(w))\n",
        "print(np.dot(v, w))\n",
        "\n",
        "# Matrix / vector product; both produce the rank 1 array [29 67]\n",
        "print(x.dot(v))\n",
        "print(np.dot(x, v))\n",
        "\n",
        "# Matrix / matrix product; both produce the rank 2 array\n",
        "# [[19 22]\n",
        "#  [43 50]]\n",
        "print(x.dot(y))\n",
        "print(np.dot(x, y))"
      ],
      "execution_count": null,
      "outputs": [
        {
          "output_type": "error",
          "ename": "IndentationError",
          "evalue": "ignored",
          "traceback": [
            "\u001b[0;36m  File \u001b[0;32m\"<ipython-input-30-3965a4b78c99>\"\u001b[0;36m, line \u001b[0;32m7\u001b[0m\n\u001b[0;31m    w = np.array([11, 12])\u001b[0m\n\u001b[0m    ^\u001b[0m\n\u001b[0;31mIndentationError\u001b[0m\u001b[0;31m:\u001b[0m unexpected indent\n"
          ]
        }
      ]
    },
    {
      "cell_type": "code",
      "metadata": {
        "id": "1c8r3p5QM_dC"
      },
      "source": [
        ""
      ],
      "execution_count": null,
      "outputs": []
    },
    {
      "cell_type": "markdown",
      "metadata": {
        "id": "dTAhjyy_MhUh"
      },
      "source": [
        "\n",
        "\n"
      ]
    },
    {
      "cell_type": "markdown",
      "metadata": {
        "id": "NmF5Aa5UTTq6"
      },
      "source": [
        "Numpy provides many useful functions for performing computations on arrays; one of the most useful is sum:"
      ]
    },
    {
      "cell_type": "code",
      "metadata": {
        "id": "SLvuH0WETY89"
      },
      "source": [
        "import numpy as np\n",
        "\n",
        "x = np.array([[1,2],[3,4]])\n",
        "\n",
        "print(np.sum(x))  # Compute sum of all elements; prints \"10\"\n",
        "print(np.sum(x, axis=0))  # Compute sum of each column; prints \"[4 6]\"\n",
        "print(np.sum(x, axis=1))  # Compute sum of each row; prints \"[3 7]\""
      ],
      "execution_count": null,
      "outputs": []
    },
    {
      "cell_type": "markdown",
      "metadata": {
        "id": "OHyIR9NBTZyj"
      },
      "source": [
        "Apart from computing mathematical functions using arrays, we frequently need to reshape or otherwise manipulate data in arrays. The simplest example of this type of operation is transposing a matrix; to transpose a matrix, simply use the T attribute of an array object:"
      ]
    },
    {
      "cell_type": "code",
      "metadata": {
        "id": "yyKQrxA6Tcj8"
      },
      "source": [
        "import numpy as np\n",
        "\n",
        "x = np.array([[1,2], [3,4]])\n",
        "print(x)    # Prints \"[[1 2]\n",
        "            #          [3 4]]\"\n",
        "print(x.T)  # Prints \"[[1 3]\n",
        "            #          [2 4]]\"\n",
        "\n",
        "# Note that taking the transpose of a rank 1 array does nothing:\n",
        "v = np.array([1,2,3])\n",
        "print(v)    # Prints \"[1 2 3]\"\n",
        "print(v.T)  # Prints \"[1 2 3]\""
      ],
      "execution_count": null,
      "outputs": []
    },
    {
      "cell_type": "markdown",
      "metadata": {
        "id": "d3Kwwnb4Te5K"
      },
      "source": [
        "Broadcasting\n",
        "Broadcasting is a powerful mechanism that allows numpy to work with arrays of different shapes when performing arithmetic operations. Frequently we have a smaller array and a larger array, and we want to use the smaller array multiple times to perform some operation on the larger array.\n",
        "\n",
        "For example, suppose that we want to add a constant vector to each row of a matrix. We could do it like this:"
      ]
    },
    {
      "cell_type": "code",
      "metadata": {
        "id": "4ybvwd9kTiOr"
      },
      "source": [
        "import numpy as np\n",
        "\n",
        "# We will add the vector v to each row of the matrix x,\n",
        "# storing the result in the matrix y\n",
        "x = np.array([[1,2,3], [4,5,6], [7,8,9], [10, 11, 12]])\n",
        "v = np.array([1, 0, 1])\n",
        "y = np.empty_like(x)   # Create an empty matrix with the same shape as x\n",
        "\n",
        "# Add the vector v to each row of the matrix x with an explicit loop\n",
        "for i in range(4):\n",
        "    y[i, :] = x[i, :] + v\n",
        "\n",
        "# Now y is the following\n",
        "# [[ 2  2  4]\n",
        "#  [ 5  5  7]\n",
        "#  [ 8  8 10]\n",
        "#  [11 11 13]]\n",
        "print(y)"
      ],
      "execution_count": null,
      "outputs": []
    },
    {
      "cell_type": "markdown",
      "metadata": {
        "id": "VcyIUppvTmAt"
      },
      "source": [
        "This works; however when the matrix x is very large, computing an explicit loop in Python could be slow. Note that adding the vector v to each row of the matrix x is equivalent to forming a matrix vv by stacking multiple copies of v vertically, then performing elementwise summation of x and vv. We could implement this approach like this:"
      ]
    },
    {
      "cell_type": "code",
      "metadata": {
        "id": "lKVXKlMqTy0f"
      },
      "source": [
        "import numpy as np\n",
        "\n",
        "# We will add the vector v to each row of the matrix x,\n",
        "# storing the result in the matrix y\n",
        "x = np.array([[1,2,3], [4,5,6], [7,8,9], [10, 11, 12]])\n",
        "v = np.array([1, 0, 1])\n",
        "vv = np.tile(v, (4, 1))   # Stack 4 copies of v on top of each other\n",
        "print(vv)                 # Prints \"[[1 0 1]\n",
        "                          #          [1 0 1]\n",
        "                          #          [1 0 1]\n",
        "                          #          [1 0 1]]\"\n",
        "y = x + vv  # Add x and vv elementwise\n",
        "print(y)  # Prints \"[[ 2  2  4\n",
        "          #          [ 5  5  7]\n",
        "          #          [ 8  8 10]\n",
        "          #          [11 11 13]]\""
      ],
      "execution_count": null,
      "outputs": []
    },
    {
      "cell_type": "markdown",
      "metadata": {
        "id": "eKmZK-8IT11-"
      },
      "source": [
        "Numpy broadcasting allows us to perform this computation without actually creating multiple copies of v. Consider this version, using broadcasting:"
      ]
    },
    {
      "cell_type": "code",
      "metadata": {
        "id": "hVR1yjrmT5IS"
      },
      "source": [
        "import numpy as np\n",
        "\n",
        "# We will add the vector v to each row of the matrix x,\n",
        "# storing the result in the matrix y\n",
        "x = np.array([[1,2,3], [4,5,6], [7,8,9], [10, 11, 12]])\n",
        "v = np.array([1, 0, 1])\n",
        "y = x + v  # Add v to each row of x using broadcasting\n",
        "print(y)  # Prints \"[[ 2  2  4]\n",
        "          #          [ 5  5  7]\n",
        "          #          [ 8  8 10]\n",
        "          #          [11 11 13]]\""
      ],
      "execution_count": null,
      "outputs": []
    },
    {
      "cell_type": "markdown",
      "metadata": {
        "id": "x7RaqH-FT7jo"
      },
      "source": [
        "The line y = x + v works even though x has shape (4, 3) and v has shape (3,) due to broadcasting; this line works as if v actually had shape (4, 3), where each row was a copy of v, and the sum was performed elementwise.\n",
        "\n",
        "Broadcasting two arrays together follows these rules:\n",
        "\n",
        "If the arrays do not have the same rank, prepend the shape of the lower rank array with 1s until both shapes have the same length.\n",
        "The two arrays are said to be compatible in a dimension if they have the same size in the dimension, or if one of the arrays has size 1 in that dimension.\n",
        "The arrays can be broadcast together if they are compatible in all dimensions.\n",
        "After broadcasting, each array behaves as if it had shape equal to the elementwise maximum of shapes of the two input arrays.\n",
        "In any dimension where one array had size 1 and the other array had size greater than 1, the first array behaves as if it were copied along that dimension"
      ]
    },
    {
      "cell_type": "code",
      "metadata": {
        "id": "lUwiAZpFUM-h"
      },
      "source": [
        "Here are some applications of broadcasting:"
      ],
      "execution_count": null,
      "outputs": []
    },
    {
      "cell_type": "code",
      "metadata": {
        "id": "3RtGbkhqURyy"
      },
      "source": [
        "import numpy as np\n",
        "\n",
        "# Compute outer product of vectors\n",
        "v = np.array([1,2,3])  # v has shape (3,)\n",
        "w = np.array([4,5])    # w has shape (2,)\n",
        "# To compute an outer product, we first reshape v to be a column\n",
        "# vector of shape (3, 1); we can then broadcast it against w to yield\n",
        "# an output of shape (3, 2), which is the outer product of v and w:\n",
        "# [[ 4  5]\n",
        "#  [ 8 10]\n",
        "#  [12 15]]\n",
        "print(np.reshape(v, (3, 1)) * w)\n",
        "\n",
        "# Add a vector to each row of a matrix\n",
        "x = np.array([[1,2,3], [4,5,6]])\n",
        "# x has shape (2, 3) and v has shape (3,) so they broadcast to (2, 3),\n",
        "# giving the following matrix:\n",
        "# [[2 4 6]\n",
        "#  [5 7 9]]\n",
        "print(x + v)\n",
        "\n",
        "# Add a vector to each column of a matrix\n",
        "# x has shape (2, 3) and w has shape (2,).\n",
        "# If we transpose x then it has shape (3, 2) and can be broadcast\n",
        "# against w to yield a result of shape (3, 2); transposing this result\n",
        "# yields the final result of shape (2, 3) which is the matrix x with\n",
        "# the vector w added to each column. Gives the following matrix:\n",
        "# [[ 5  6  7]\n",
        "#  [ 9 10 11]]\n",
        "print((x.T + w).T)\n",
        "# Another solution is to reshape w to be a column vector of shape (2, 1);\n",
        "# we can then broadcast it directly against x to produce the same\n",
        "# output.\n",
        "print(x + np.reshape(w, (2, 1)))\n",
        "\n",
        "# Multiply a matrix by a constant:\n",
        "# x has shape (2, 3). Numpy treats scalars as arrays of shape ();\n",
        "# these can be broadcast together to shape (2, 3), producing the\n",
        "# following array:\n",
        "# [[ 2  4  6]\n",
        "#  [ 8 10 12]]\n",
        "print(x * 2)"
      ],
      "execution_count": null,
      "outputs": []
    },
    {
      "cell_type": "markdown",
      "metadata": {
        "id": "CJwvbXAWND7i"
      },
      "source": [
        "![image.png](data:image/png;base64,iVBORw0KGgoAAAANSUhEUgAAAbAAAAFECAYAAABGTWslAAAgAElEQVR4Ae1dedAVRZKXa9lYdjR2ddQlDAKM3dCVO1ydYNkNFV1jFAV0EQXUAbwA0T8MPDFCDhEQUCIAwUBQBMQFFVSuEUXkUhF0xTFYLgdUZuQGOeXKjayd6q2vqe7s6ldV3a87O+J9XV1Znb/MX2Vnvj6+fmcBL8wAM8AMMAPMQBUycFYV2swmMwPMADPADDADwAWMg4AZYAaYAWagKhngAlaV08ZGMwPMADPADHAB4xhgBpgBZoAZqEoGuIBV5bSx0cwAM8AMMANcwDgGmAFmgBlgBqqSAS5gVTltbDQzwAwwA8wAFzCOAWaAGWAGmIGqZIALWFVOGxvNDDADzAAzwAWMY4AZYAaYAWagKhngAuZg2r7//nsHWlklM8AMMAPMgMoAFzCVDQttLF7z5s2L1bR9+3aYP39+7JgkwtWrV8OxY8fgl19+gS+++CLJLjyGGWAGmIHCMMAFzPJUPv/88zU0fvTRR/Duu+/C2LFjYfr06YHsrbfegk2bNgXbaRrXXHMNXHLJJfCv//qvsHjx4jQqeB9mgBlgBqqWAS5gFqdu/fr1MG3atEDjzz//DM2bNxdnSKdPn4Yrr7wSfvzxRyHHs6ZnnnkmGKtrLFy4UNcd9M2aNQv+/Oc/w8mTJ4M+bjADzAAzUBYGuIBZnOmXXnoJNm7cWEOjun355ZfDDz/8EMifeuopOHToULAdbuBZW9zyzjvvxIlZxgwwA8xAoRngAmZxevv06QN4pqVb8B7VAw88UEP0+uuvw/Lly2v0qRtUARs4cCC8/fbbMHnyZPjwww/VXbnNDDADzEDhGfBewAYMGCAupd1///3QtWtXeOSRRwTJsv+ee+6B7t27w7333gt79uzRTgAWCRxz5513wu233w54PwmXV155BTp27CgKBRaLzp07w6BBg0RRUcfPnj070Ctxw/bgALx3hTpuu+02uOOOO+D6668HvCz4wQcfCFypXyrr1auXbNZYv//++/Dwww/D1q1ba/QvWrSoxn2xGkIAcd8s3Kduf/vtt8Fmhw4dhG1BBzeYAWaAGSg4A94LGPKJDx+sXLlSUIvFYffu3aLdrl072Lx5s2hj8Xj00UdFW/fn1VdfFd1HjhwR+vbt2ye2P//8c2jVqhV8/fXXYvvAgQNiHTUehTp78NLeDTfcAKdOnYLvvvtOFCzEwkuAt9xyCxw8eFDo7d+/P+CDGrjcfffdYq37g+Ovu+664B4Yjlm1ahVMnDgxGI6+jxo1CkaPHi3W3bp1C9rYt3Tp0mAsNtA2uWAx5wc5JBu8ZgaYgTIwkEkBw0IlF0y8+Fg5Lmo/Jvwbb7xRDjtj/d5778FDDz0kigY+HCF1YAHD/vASNR7Hqbh33XWX0HX48GG49tprRaH66quvQJ5d4YMVV111FeA4tP3WW28NzgDlGImNBQfPEOWCbbzcJ5clS5bA1KlT5eYZ67hLiFjg5dkr7oh2oD5emAFmgBkoCwOZFDA845GLWsCwX94TevPNN+GJJ54Qw/B/q9R7S5io8RLh/v37hbxLly5BAfvss8+C/SSGbrx8GhDHRNnTvn17UaTuu+8+2LZtm1Anz8DwUiIuX375JeD/Y+Hy2GOPARY+uXzyySfwwgsviE20Hwuf9A8758yZE/v/YHEFbM2aNQEuYqIPeIbICzPADDADZWHAewHDJ+9atGgB+MADPnJ+xRVXiPtZeMkOk/CDDz4otvv16wfy8l+nTp1Avd+Dhatv376Al9h69uwJWGDwUuS4cePEPbC2bduKMyS8RIeLOh7PkuR4vGQXZQ+eAV599dWigOH9OHxgYsuWLULfxx9/DFg08R4eynbt2iX68d7ap59+Ktryz4wZMwAf1hg+fDjMnDlTdos19v300081+tSNuAKG4/AsDC+NPvvss/Df//3f6q7cZgaYAWag8Ax4L2BxjKqX8uLG+ZDhAyGy4OD/WX3zzTeiaMVhY6GUZ1xx46QMi2fcYuNtHXH6WcYMMAPMQDUzkKsCpl7Ky5pULETqK6F27twpzvIou6ZMmQJ79+6lhomHTLhAkTTxAGaAGWAGIhnITQF7+umnxaVFvDSYhwXflDFkyBBxmRLv0+FlR3zTBrXgk4HyzC1qLJ7Rvfzyy1Fi7mcGmAFmgBlIwEBuClgCWwszBM/mjh49Whh/2BFmgBlgBrJggAtYFqwzJjPADDADzEDFDHABq5hCVsAMMAPMADOQBQNcwLJgnTGZAWaAGWAGKmaAC1jFFLICZoAZYAaYgSwY4AKWBeuMyQwwA8wAM1AxA7kpYPiqpRMnTlTsUBIFjJWEpfyMKep85YdhtiQJA0WNw2r2KxcFDP/nCn8G5YILLoCzzjrLy6dOnTpecNAf31hJDsZqGZNFbNSuXRvwdWGuP/i2F/z1Adc4qF99s0y1zH2e7MwiDn3nDZ+519bcZl7AMDDwt6ywgGHb5VIGLAzCoixZzZcPDvHnfvCDxcX14hPLtS9Z6M8qDouaD20eX5lmOw6Myg/HMIc2g6Ny69JrCPuVXhO9ZxjLNYeyoKBlrguYTyya6eobEY4Nlx6UBcvm8ZVZASvLZPkOeJvB4dL2ON1Zx4ZLDtWCghy4LGA+seLms1plWcehK96y9svm8ZVJAcuawKIGBvplMzhc8RSnNw+x4YrDcEFBHlwVMJ9YcfNZrbI8xKEL7vLgl83jy3sBywOBRQ0M9MtmcLjgKU5nXmLDBYe6goJcuChgPrHi5rNaZXmJQ9v85cUvm8eX1wKWFwKLGhjol83gsM1TnL48xYZtDqMKCvJhu4D5xIqbz2qV5SkObXKYJ79sHl/eClieCCxqYKBfNoPDJk9xuvIWGzY5jCsoyInNAuYTK24+q1WWtzi0xWPe/LJ5fHkrYDNmzBA/CIlkul7KjGUzOFzPk9Sft/myxeHhw4fFL3lLP3VrWwXMJ5bOjyL05S0ObXGaN79sHV/Ij7cChmD169cXZwjogOtPrVq1nGNIH3xiIYdxi83giMOxLfMZG/Xq1RNnPlg8dB/kUNefpm/ixImxul588cVYuQkm9QvfqIuXeAZ8xqHPvOETy2eO8lrAfCbXsmL59Ds+FZhJfdpNYVFyE8+ookHJ84plYlc1jbU595TfZcWy6TcXMCrKEshtTggFR2FRckp/VnKfdlNYlNyEI6pAUfK8YpnYVU1jbc495XdZsWz6zQWMirIEcpsTQsFRWJSc0p+V3KfdFBYlN+GIKlCUPK9YJnZV01ibc0/5XVYsm35zAaOiLIHc5oRQcBQWJaf0ZyX3aTeFRclNOKIKFCXPK5aJXdU01ubcU36XFcum31zAqChLILc5IRQchUXJKf1ZyX3aTWFRchOOqAJFyfOKZWJXNY21OfeU32XFsuk3FzAqyhLIbU4IBUdhUXJKf1Zyn3ZTWJTchCOqQFHyvGKZ2FVNY23OPeV3WbFs+s0FjIqyBHKbE0LBUViUnNKfldyn3RQWJTfhiCpQlDyvWCZ2VdNYm3NP+V1WLJt+57qAzZs3D1q0aAGXXnopdOnSBQ4ePEjFRCBPQ1KPHj1g9OjRgY6kDVOsadOmQcuWLaF169bQtm1bWLNmTVIo8k0bprYkBnY80NTuRx55BBo1aiQ4RB7vuOOOxBZSWGH5okWLAP9fC/+nCz9vvfVWYiyqQIXlPrESO1GigeG5p1x3GYdh7HXr1sHVV18tYv6KK66AtWvXhodEbpv49frrr0OrVq2CY6tJkybwV3/1V7Bz585I/aqAwqLkqi6qndsCtmvXLjj//PNhy5YtwofHH38c+vbtS/kTyE1IWr9+PbRr1w4aNGjgvIBt2LABGjZsCDt27BC2LliwQCTiwHCiQflFyQn1mYlN7W7Tpg18+umnqeylsMJy/DXjH374IRVWuECFlYTlPrHCtvC2+avYXMahOh9HjhyBf/iHfwD8goPLe++9B//8z/+sDolth2M6drAiPHHiBKCPkyZNUnrjmxQWJY/XXlOa2wKGrz+56aabAmu3bt0K55xzTrBNNUxI6tevH0yfPh169uzpvIChH1i05IKFDP9zHQMlyUL5RcmTYMgxl1xyiWw6X5vYja8j++u//mv4z//8T3Emi+vvv/8+sY0Ulio/efIkPPvss/Bf//VfMGHCBLHev39/YqxwgQrvqMp9YoXt4O3/Y0Cde4oT13Go4s+dOxf+/d//Xe0iX1OmDjbxS91vyJAh0KlTJ7WLbFNYlJwEUAbktoANHz4c+vTpE5iKB3ft2rUTX0ZMQ5KvS4iBUwDQvXt3cXlU7YtrU35R8jjdYRleuvW1mNj9xz/+Edq3bw+bNm0S5o0cOVJc7khqK4Wlyvft2wf4ZWrPnj1C/cqVK8VlxKRYaoHS7aPKfWLpbHHVt2rVKujYsaNIhJgM5WfFihWuIFPrVeeeUuI6DlX8559/Hjp37gz33HMP/Mu//Av8x3/8B3z55ZfqkNi2iV9S0e7du+Hv/u7vYNu2bbIr0ZrCouSJQP4yKLcF7LnnntMWMDyVTrKkIclnAcOXr2JA4un5gQMHkrgkxlB+UXIKaPny5SLZYMLBAuYr2VRq99lnnw14dptkobAo+bBhwwCLTZJFLVC68ZTcJ5bOvrL1UXNP8WEzDlWsoUOHilscX3zxheh+99134cILL4Tjx4+rwyLbafzCHIxXpUwXCouSm+DltoDhJT1MonLB5HTuuefKTXKdhiRfBQy/0eBDHN26dQPTt/NTflFykjhlQF4vIeLNbHwQRl1+9atfwfbt29WuyDbFkSr/6aefAH+mRF3wwP7555/Vrsg2VaBUuU+sSIMdCOQZGB7P8oNfjKr9DMx1HKpT8eqrr8Lll1+udsGvf/1r+J//+Z8afVEbakxHjQn3Y45atmxZuJvcprAoOQmgDMhtAcMnXvAbxubNm4W5Tz75JPTq1UsxPb6ZhiQfBWzv3r3QuHFjGDx4cLwDEVLKL0oeoVbbnddLiH/4wx/g7//+74MzrvHjx8O//du/aX3QdVIcqXK8RzlixIjgjGv16tUwZcoUnVptn1qgdANUuU8snS3cZ/YQh+s4VOcDv9zgF3h52fCTTz6BCy64IPEXYDWmVb1RbbzCgA+14a0b04XCouQmeLktYOjEwoULxZnKZZddBjfffHOQRJI4mIYkHw9x4KWAunXrins2+KiqfFwVC1uShfKLkifByGKMqd14X6pZs2aAsXH99dcbPSVIYYXl+E37pZdeAiyUeOZncslXLVA6XsNyn1g6e8reF557ig+XcRjGxsv7v/nNb0Tc430wPLNNupj6hZcq/+mf/imp+hrjKCxKXkMZsZHrAkbYHiu2SVIskOdfQab8ouSUL1nJfdpNYVFyE47CBSq8LyUPj4/bpnRR8jjdZZHZnHuKs7Ji2fSbCxgVZQnkNieEgovDOn36NPmPzpT+rORxftm2KQ7LNodU0aDkJr5Tuii5CVZRx8bFhm2fy4hl+/jiAmYhKvMQiPgwCN4gx+vi1bjkiUO814DJ3sYn7heX8Z+WR40aZQUHbaWwZs6cWY2h4dXmPMShC4fz4JeLHMUFzEK0ZB0cGBgdOnQQBcz0qUYL7ltRUVQOo8568MnG8NONlRLpE6tSW/O6f9Zx6IqXrP1ylaO4gFmImCyDw1VgWKDFSEVROdQVFRfFC8n2iWU0uVU0OMs4dElTln65zFFcwCxETVbB4TIwLNBipKKoHIaLiqvihWT7xDKa3CoanFUcuqYoK79c5yguYBYiJ4vgcB0YFmgxUlFUDtWi4rJ4Idk+sYwmt4oGZxGHPujJwi8fOYoLmIXo8R0cPgLDAi1GKorKoSwqrosXku0Ty2hyq2iw7zj0RY1vv3zlKC5gFiLId3BU+wMbOsqLyiEWFR/FCzn1iaWbwyL0+Y5DX5z59stXjuICZiGCfAUHfqtBLHxcHttFWorKIT4qjwXMx+ITy4c/WWD4ikP0rYhYvnMUFzALR4mvQMTX1iBW0YqXz4PZJ4f4iwMm702sJBR9YlViZ9739XUs+4x5n1g+jy/hl8+Awh9uxADx8alVq5YXHPTFJxZyWMTFZ2zUq1dPXG7DS26uPxMnTnSOIX2YP39+EUPDq08+49Bn3vCJ5TNHeT0D8xqJDMYMMAPMADNQaAa4gBV6etk5ZoAZYAaKywAXsOLOLXvGDDADzEChGeACVujpZeeYAWaAGSguA1zAiju37BkzwAwwA4VmgAtYoaeXnWMGmAFmoLgMcAEr7tyyZ8wAM8AMFJoBLmCFnl52jhlgBpiB4jLABay4c8ueMQPMADNQaAa4gCWY3u+///6MUbq+MwZxh3MGeB6cU8wAzEBuGeACRkwNJsh58+bVGKXrqzHAcGP79u2gvgYovG2orjTDk8wDc1macGBHS8gAFzBi0p9//vkzRqh9H330Ebz77rswduxYmD59+hljwx1R49966y3YtGlTMDy8HQi4ETCgzgN2JuU2UMANZoAZqGoGuIDFTN/69eth2rRpNUaofT///DM0b95cvB3+9OnTcOWVV8KPP/5YY7y6ETce3zD/zDPPBMPD24FAaSxcuFDZKldTnQf03ITbcjHF3jIDxWWAC1jM3L700kuwcePGGiPCfar88ssvhx9++KHG+PBG3PinnnoKDh06FOwS3g4Ef2ngWV9Zl/A8IA8m3JaVN/abGSgSA1zAYmazT58+gGdW6qLrQ/kXX3wBDzzwgDo0tq0b//rrr8Py5cuD/cLbgeAvjTIXsKh5QGqScBvmkreZAWag+hjwXsAGDBggLrXdf//90LVrV3jkkUcEa7L/nnvuge7du8O9994Le/bsiWT0/fffh9tvvx3uvvtuGDNmTA0dYd0oXLx4sRjfuXNnGDRoUA29Q4cOFXq6desGV111VXAZsFevXjXG4YauD215+OGHYevWrWeM13VEjV+0aFGN+2jh7bCuuAIm+QxzIfuT8IzFG+fizjvvFNzhfTlc8Jd/8VehsWDjR+U0ah+JG7YH9eE9RNRx2223wR133AHXX3+9uCSIsqh5080Djk/KLY7lhRlgBqqbAe8FDOm65pprYOXKlYI5TFq7d+8W7Xbt2sHmzZtFG5Pao48+KtrhP9u2bYNbbrkl+GVivNQmn+LT6cbLejj+4MGDQlX//v3FDX/cwHsnKNuxY4eQTZo0CQ4cOCDav/vd78Ra/aPrQznqvu6664Lip+6ja+vGr1q1CvAHEOUS3kZuRo0aBaNHjxZrLLiyjeulS5fKXcVaxwUKkvKMY1999VWh68iRI2Le9u3bJ7Y///xzaNWqFXz99ddiW3IWt4/OHrxkesMNN8CpU6fgu+++E4USsXCJmzf84hK1JOE2al/uZwaYgephIJMChglULvjtHh91xkXtxyR04403ymE11lisRowYEfQtWbIEhgwZIrYxScrlrrvuErrxYQc8s8JtxLv11ltBnk3gWEzCzz77LNx3333wxBNPwP79+4UK3bd8tQ8LBp4FygXbkydPlptnrKnx6MfUqVOD/cLbgeAvjbgzMByi8pmGZ9Tx3nvvwUMPPSTOUPEhFTlXWMCwX7dE7aPaI+fm8OHDcO2114ovAF999VWNM9y4eVPnAW0w5VZnN/cxA8xAdTGQSQFTi4yaWLFf3gN68803RTFBOvH/fdR7UXiprlOnTnD06FHBNhadd955R7R1uuU3eTzbwuXLL7+E1atXizae/d10002AiRSXOXPmwGuvvSbajz32WNAvOgBA7fvkk0/ghRdeECK0D4vkihUrxDbaqNqMnbrx0l+UI7Y8k9RtC8XKH6qA6bjA3aN4RpnKNRZQvEQoC3qXLl2CAvbZZ58F86OYBHH7RNnTvn178cUCv0Dg2bVc4uZNnQccb8qtxOA1M8AMVC8D3gsYXu5r0aIF4E14fET9iiuuEPdZ8FISJrgHH3xQbPfr1y+4lIfF6ttvv63B8u9//3txJoWXIIcPHy5kUbqxOH388ceACRjvu+H9tV27dol98NIhJlC8p4My/Gb/pz/9Schmz54Nn376aQ1c7MNLe3KZMWMG4MMWaMPMmTNlN/z2t78NilnQCQBR43EM6vjpp5+C4eHtQPCXRlwBi+IijmdUq3KNhatv376Alyp79uwpzlCR73Hjxgm+2rZtK85qVT6i9sEzLt2845n21VdfLQoYzsvAgQNhy5YtgatR86abGxNuAwBuMAPMQNUy4L2AxTGlXmKKG+dLhslYnmFJTF2flKlrvKcTLn6qXNfGoqMu4W1Vhm31bC0si9vOE8/4QIgs/CdPnoRvvvlGfNGIsx9lSedB6qG4lON4zQwwA9XDQK4KmHqJKS8UTpkyBfbu3VvDHF1fjQF/KS7yEmdYptvG+3BqQQpv6/ZJ25cnnvELgvqqrp07d4qnEZP4lmQeUI9LLpPYyWOYAWbADQO5KWBPP/20uMSEl6zytOCZlDxDkHbp+qRMruU9Nbkdt8Yzj5dffjkYEt4OBBYaeeMZ3ziCD+DgZUq8H4r3wfAtG0mWJPPgksskNvIYZoAZcMdAbgqYOxfzrxnPOtSztfB2/j3Ir4XMZX7nhi1jBiplgAtYpQzy/swAM8AMMAOZMMAFLBPaGZQZYAaYAWagUga4gFXKIO/PDDADzAAzkAkDXMAyoZ1BmQFmgBlgBiplgAtYpQzy/swAM8AMMAOZMMAFLBPaGZQZYAaYAWagUgZyU8DwHYL40xk+FsbywbI9DJ6vyrn0yWHl1uZTg08OGStZDOSigOELYM877zxo0qQJnHXWWV4+9erV84KD/vjGSjb11TGKY8Pe8YBxyEs6BjgO8xmHmRcwGRj40lbXSxmwsGAWZSnDfLmeK5XDIsWGa95U/SqHar+LdhmwbMZhptmuDJPlIshVnWEObQaHiuO7HfbLJX5ZsIoSGy5jIay7LLER9tvmdphDm3GYWQELO2WTsLCuMmHZDI4wj762yzRfrjjVcViE2HDFl06vjkPdOBt9ZcKyGYeZFLAyTZaN4NbpiOLQZnDocF33RfnlArdsWNUeGy5iIEpn2WIjiodK+qM4tBmH3gtYlFOVEBW1bxmxbAZHFK+u+ss4X7a5jOOwmmPDNk9x+uI4jNsvjayMWDbj0GsBK+NkpQnquH0oDm0GR5wdtmWUXzbxyopVrbFhc+4pXWWNDYoXEznFoc049FbAVq9eLR6V9/G0YZmxbAaHSdBWMrbM81UJb+q+STisxthQfXTdTsKhLRvKjGUzDr0VsD/84Q9e/x8KSSrih/pfHpvBYetgpfRwbNiJ1SLGBhU7NuUch9UXh94KGAaaz+RaViyffttMHj7tLiuWT79txoZPXT45KiuWTb+5gFk4OmxOCGUOhUXJKf1ZyX3aXVYsn35nFUeV4vrkqKxYNv3mAlZpxOfszNJmcFigJrEKn3aXFcun34knPmcDfXJUViybfnMBs3AA2ZwQyhwKi5JT+rOS+7S7rFg+/c4qjirF9clRWbFs+s0FrNKI5zMwCwzy/VEbJFKJgZLbsKHadfjkqKxYNv3mAmbhiLM5IZQ5FBYlp/RnJfdpd1mxfPqdVRxViuuTo7Ji2fSbC1ilEc9nYBYY5DMwGyRSiYGS27Ch2nX45KisWDb9zn0B69GjB4wePdr4uEhDUhGw0vhtTK6DHUztnjdvHrRo0QIuvfRS6NKlCxw8eDCxVaZYqNhXbEybNg1atmwJrVu3hrZt28KaNWus+ZXG78TgBRmYhqMixEZ4+saOHQtNmzaF5s2bQ6dOnWDXrl3hIZHbFIeUPFKxRpDbArZ+/Xpo164dNGjQwHkBKxKWzeDQxIuzLhO78WA6//zzYcuWLcKexx9/HPr27ZvYNhMsn7GxYcMGaNiwIezYsUP4smDBAmjUqJE1v0z8TgxasIEmHBUpNtRpXLt2rfhxYfmlsH///tC7d291SGyb4pCSxyoPCXNbwPr16wfTp0+Hnj17Oi9gRcKyGRyhWHG6aWL3jBkz4Kabbgrs2bp1K5xzzjnBNtUwwfIZG+gHFi25YCGrX78+nDhxQnbFrim/KHms8pIITTgqUmyEp/fkyZOi6+jRo9C1a1cYMGBAeEjkNsUhJY9UrBHktoBJW32dniNeEbBsBoecAx9rE7uHDx8Offr0CczCg6127dqJLyOaYEkQn7EhMbt37y4uj8ptak35Rckp/WWQp+GoCLGhm9u5c+eK99dedNFFsHnzZt0QbR/FISXXKo3o5AKmEOMzEF1h2QwOhRrnTRO7n3vuOW0BO3LkSCI7TbCkQlfzJfWr68OHD0Pnzp2hTZs2cODAAVUU26b8ouSxyksiTMNREWIjbnonTZoEF198cdyQGjKKQ0peQxmxwQVMIchnILrCshkcCjXOmyZ246Xljh07Bjbhpbdzzz032KYaJlhSl6v5kvrletu2beIhjm7dusEvv/wiuxOtKb8oeSKQgg9Kw1ERYkOdVjzbWrFiRdB16tQpqFOnDuzduzfoi2tQHFLyON1hGRcwhRFfgYiQrrBsBodCjfOmid07d+6ECy+8MLis8eSTT0KvXr0S22iCJZW6mi+pH9eYIBo3bgyDBw9WuxO3Kb8oeWKgAg9Mw1ERYkOd0uXLlwNeNtyzZ4/onjp1KrRq1UodEtumOKTkscpDwtwXMB8PcUhOioBlMzgkLz7WpnYvXLhQnKlcdtllcPPNN8O+ffsSm2mKhYp9xMbQoUOhbt264hF6TBj4wcfp8/jNNzHZVTawrLERnqaJEydCs2bNRPy1b98e8CpH0oXikJInxcFxuS9gJs6oY22SpOrVtfOE5dMWHRdp+3zaXVYsn36njYOs9/PJUVmxbPrNBczCEWNzQihzKCxKTunPSu7T7rJi+fQ7qziqFNcnR2XFsuk3F7BKIz5Hr5LCG682g8MCNYlVxNmN/4uCT+bZWsqI9dFHH1VtbNia9yR64mIjyf4mY8qIZTtHcQEzibiIsXkIxCVLloj/2aB+Vj7Chcy7ozjER+Pxtd48qEQAACAASURBVFFz5syBjz/+2MoHsXS6Fi1aBPiIPr5GRydP05cHrBEjRsDf/M3fwK9//evM5znvBkTFoQu7y4blIkdxAbMQmVkHogwMTLA+bbFAXaBCZ7csXngGhr7ZWsqEhQ+7nH322fD73//eKoe25iJvenSx4crGMmG5ylFcwCxEZ5aBqAYGuuLTFgvUBSrCdqvFCwe5LGBFxVKLl20Og4krWCMchy7dKwuWyxzFBcxChGYViOHAQFd82mKBukCFane4oOAgVwWsqFjh4mWbw2DiCtZQ49C1a2XAcp2juIBZiNIsAlEXGOiKT1ssUBeokHbrCgoOclHAioqlK162OQwmrmANGYc+3Co6lo8cxQXMQqT6DsSowEBXfNpigbpABdodVVBwkO0CVlSsqOJlm8Ng4grW8Hn8FBnLV47iAmbhAPQdiOedd15kQvdpiwXqAhVoNz5tiA9s6BbbBayoWPKBDdcc6vQXoc/n8VNkLF85iguYhaPOVyCuXr1anGHFJXNftligLVCBL61Fu6OKFw6M8zlQlKBRVKyVK1cKDvFpw6jFFodR+ovQ7/P4KSKW7xzltYDVqlVLHGQ4cfxJz0FcovB5UMTZYSLDH2zEdwByTKSPCeQO3xget3ABi2Pn/2ScoyqLQXkMxzFtM0d5LWA2DY8jCGVlxfLpNzUHJnIquVJyxqLPUm1yaMJ3NY31efyUFcum31zALBxdNieEMofCouSU/qzkVHKl5CZ2U7ooOWOZMFBdY30eP2XFsuk3FzALx5fNCaHMobAoOaU/KzlVNCi5id2ULkrOWCYMVNdYn8dPWbFs+s0FzMLxZXNCKHMoLEpO6c9KThUNSm5iN6WLkjOWCQPVNdbn8VNWLJt+cwGzcHzZnBDKHAqLklP6s5JTRYOSm9hN6aLkjGXCQHWN9Xn8lBXLpt9cwCwcXzYnhDKHwqLklP6s5FTRoOQmdlO6KDljmTBQXWN9Hj9lxbLpNxcwC8eXzQmhzKGwKDmlPys5VTQouYndlC5KzlgmDFTXWJ/HT1mxbPrNBczC8WVzQihzKCxKTunPSk4VDUpuYjeli5IzlgkD1TXW5/FTViybfue+gPXo0QNGjx5tfBSkIakIWGn8NibXwQ5U0QjLN2zYABMmTIBx48bB7NmzAd+wkXQJ6wrvp5PPnTsXVq1aFR5Kbut0qTuF5V9//bXwa+LEiTB58mTYvn27Ojy2HdYVHkzJw+PLuJ3m+PGVN6ZNmwYtW7aE1q1bQ9u2bWHNmjWJp8jUL/xR16ZNm0Lz5s2hU6dOsGvXLmtYprbEAee2gK1fvx7atWsHDRo0cF7AioRlMzguueSSuNixKqOSqyo/fPgwjBw5Evbu3StsWLx4sXiPYlKDVF26fVQ5HrhTp06FoUOHOi9gu3fvFrF+6NAhYdbGjRvhxRdf1Jmo7VPt1g2g5Lp9ytZncvz4zBv4ha1hw4awY8cOMSULFiyARo0aJZ4eE7/Wrl0LTZo0gYMHDwr9/fv3h969e1vDMrGFAs1tAevXrx9Mnz4devbs6byAFQnLZnBceumlVPxYk1PJVZWvW7cO3njjjQB73759MGzYsGCbaqi6dGNV+fz58wHPinycgaEfWLTkgoVsyJAhcOrUKdkVu1bt1g2k5Lp9bPThmWvHjh3FN3n8Ni8/K1assKHeqg6T48dn3ti6dStg0ZILFrL69esDvoYtyWLiF+o7efKkUIvvJ+3atSsMGDAgCYwYQ2FR8sRA+MYlk8GVjk1juK/Tc/StCFhpOFbndfny5SLZYMLBAuYr2VDJVZWjjfg2eblggh80aFDiy4iqLqlDXevkPgqYagO23377bXF5NNwfta2zWx1LydWxZW2nOX585g05L927d4cuXbrITXKdxi+MeXyr/EUXXQSbN28mMeQACouSSz1J1lzAFJZ8BqIrLJvBkddLiMuWLdMWsOPHjyuzGd2kErlO7rOAoR+zZs2CV155BY4dOxbtSEiis1sdQsnVsTbb8gwMvxTJD34xqvYzMMmRq2NZ6lfXePm8c+fO0KZNGzhw4IAqim1XkhcmTZoEF198cax+VUhhUXJVF9XmAqYw5DMQXWHZDI68XkLES3ozZ84MZg4vvY0YMSLYphpUItfJfRWw/fv3i4c48OxLXsah/JFynd1ShmtKro4tazvN8ePqWA7PwbZt28RDHN26dUt8tUHqMPELz7bULxd4hQN/6UDec5Y6o9YUFiWP0qvr5wKmsOIrEBHSFZbN4FCocd6kkqsqx3tDo0aNgj179gi7PvzwQ3GPKqmRqi7dPjq5jwKGvxI9ZswYWLp0qc4ssk9nt7oTJVfHlrWd5vhxdSyrc4DFo3HjxjB48GC1O3HbxC+8RI+XDeXxhQ8xtWrVyhqWiS0UaO4LmI+HOCRJRcCyGRySFx9rKrmG5Zs2bRJnKuPHjxcPdMT9GGbY/rCuJHIfBQwvjWKCwkfo1Q8WtiRLGr+S6C3TmDTHj4+8gU/B4m/m4SP0WEzwg21bZ0XhOcb4a9asmcBo37494EMkSReKQ0qeFAfH5b6AmTijjrVJkqpX184Tlk9bdFyk7fOZfBkr7SwVfz+fx09ZsWz6zQXMwjFpc0Ioc+Kw8Lp1nJzSnaU8rqjg2dXChQutmcdY1qgsnCKfx08ZsWznKC5gFg7BPATikiVLxCOv9erVs+CRfxVRRQUvn+Ej8/hmABxj44P/HKzTs2jRInjuuefE/7zo5Gn68oSFHPISz0AejuV4C9NJ8+CXixzFBSxdPNTYK+vgkIGBCdanLTVIqHADbQ8vsnjhGZhOHh6fdFuni7GSslfscT6PnzJhucpRXMAsHI9ZBqIaGOiKT1ssUBeoCBcVtaDgoLA82DFFI6yLsVKQWNBdfB4/ZcFymaO4gFk4ELMKxHBgoCs+bbFAXaBCLSrhgoKDVHmwU8qGqouxUpJY0N18Hj9lwHKdo7iAWTgQswhEXWCgKz5tsUBdoEIWFV1BwUFSHuxQQUPqYqwKSCzorj6Pn6Jj+chRXMAsHIi+AzEqMNAVn7ZYoC5QgUUlqqDgIFl0gh0qaDBWBeQVfFefx0+RsXzlKC5gFg5I34GIL9iMSug+bbFAXaACnwDEpw2j/iE5yt9AgUGDsQzIKtlQn8dPkbF85SguYBYOUF+BuHr1anGGFZfMfdligbZABf4YJT6+HlW8cGCcz4GiBA3GSkBSiYf4PH6KiOU7R3ktYLVq1RIJGCeOP+k5iMsvPg+KODtMZPibRvjLylikoj5R/08VNT6qH9+b+PTTT0fi4H7VioUcxi3oGy/xDHCOSp+X1Jwex7LNHOW1gNk0PI4glJUVy6ff1ByYyKnkSskZiz5LtcmhCd/VNNbn8VNWLJt+cwGzcHTZnBDKHAqLklP6s5JTyZWSm9hN6aLkjGXCQHWN9Xn8lBXLpt9cwCwcXzYnhDKHwqLklP6s5FTRoOQmdlO6KDljmTBQXWN9Hj9lxbLpNxcwC8eXzQmhzKGwKDmlPys5VTQouYndlC5KzlgmDFTXWJ/HT1mxbPrNBczC8WVzQihzKCxKTunPSk4VDUpuYjeli5IzlgkD1TXW5/FTViybfnMBs3B82ZwQyhwKi5JT+rOSU0WDkpvYTemi5IxlwkB1jfV5/JQVy6bfXMAsHF82J4Qyh8Ki5JT+rORU0aDkJnZTuig5Y5kwUF1jfR4/ZcWy6XfuC1iPHj1g9OjRxkdBGpKKgJXGb2NyHexAFY2wfMOGDTBhwgTx/2OzZ88G/AflpEtYV3g/nXzu3LmwatWq8FByW6dL3Sks//rrr4Vf+JPukydPhu3bt6vDY9thXeHBlDw8vozbaY4fX3lj2rRp0LJlS2jdujW0bdsW1qxZk3iKTP3C345r2rQpNG/eHDp16gS7du2yhmVqSxxwbgvY+vXroV27dtCgQQPnBaxIWDaDIy5wbMuo5KrKDx8+DCNHjoS9e/cKMxYvXixeQ5XUJlWXbh9Vjgfu1KlTYejQoc4L2O7du0WsHzp0SJi1ceNG8U/VOht1fardaeS6fcrWZ3L8+Mwb+IWtYcOGsGPHDjElCxYsgEaNGiWeHhO/1q5dC02aNIGDBw8K/f3794fevXtbwzKxhQLNbQHr168fTJ8+HXr27Om8gBUJy2ZwUMFjU26SfNetWwdvvPFGAL9v3z4YNmxYsE01TLDmz58PeFbk4wwM/cCiJRcsZEOGDIFTp07Jrti1iV+xikosNDl+fOaNrVu3AhYtuWAhq1+/PuBbbJIsJn6hvpMnTwq1+Hq3rl27il8pT4KDYygsSp4UR2CZDK50bBrDfZ2eo29FwErDcaXzamN/k+S7fPnyGmdcmOAHDRqU+DKiCZb0zUcBk1hy/fbbbwNeHk26pPErqe6yjEtz/PjMG3IeunfvDl26dJGb5DqNXxjz+FLeiy66CDZv3kxiyAEUFiWXepKsc3sGJo33GRxFwLIZHHIOfKxNku+yZcu0Bez48eOJTDXBkgp9FjD0Y9asWfDKK6/AsWPHpAnkOo1fpNKSDUhz/PjMG3j5vHPnztCmTRs4cOBA4tlJ45dUPmnSJLj44ovlJrmmsCg5CaAM4AKmkOEzEF1h2QwOhRrnTZPki5f0Zs6cGdiEl95GjBgRbFMNEyypy1cB279/v3iIA8++5GUcaQO1TuMXpbNs8jTHj6tjOcz9tm3bxEMc3bp1S3y1Qeow8QvPtlasWCF3FZew69SpE9xzDgQRDQqLkkeo1XZzAVNo8RWICOkKy2ZwKNQ4b5okX7w3NGrUKNizZ4+wC98wjwUm6WKCJXX6KGD4g55jxoyBpUuXSlijdRq/jABKMDjN8ePqWFbpxgeWGjduDIMHD1a7E7dN/MJL9HjZUB5f+BBTq1atrGGZ2EKB5r6A+XiIQ5JUBCybwSF58bE2Tb6bNm0SZyrjx48XD3TE/ZZY2H5TLNzfRwHDS6OYoPARevWDhS3JksavJHrLNCbN8eMjb+BTsHXr1hWP0GMxwQ8+Ti+fxKXmyNQvjL9mzZoJjPbt2wM+RJJ0obAoeVIcHJf7AmbijDrWJkmqXl07T1g+bdFxkbbPZ/JlrLSzVPz9fB4/ZcWy6TcXMAvHpM0JocyhsCg5pT8rOReVypn3yWHl1uZTg8/jp6xYNv3mAmbhOLI5IZQ5cVh44zVOTunOUh6XfPHy4MKFC62Zx1jWqCycIp/HTxmxbOcoLmAWDsE8BOKSJUvE/2zgf9BX4xJVVPD+z7x582DOnDmAY2x8XnzxRa2eRYsWwXPPPQf4Gh0bOKgjT1jIIS/xDOThWI63MJ00D365yFFcwNLFQ429sg4OGRiYMKt10dkui5fJAxpJ/GesJCyVc0zWx7Ir1rP2y1WO4gJmIWKyDA5XgWGBFiMV4aLiqnihUYxlNDWlGpzlseyS6Cz9cpmjuIBZiJqsgsNlYFigxUiFWlRcFi80irGMpqZUg7M6ll2TnJVfrnMUFzALkZNFcLgODAu0GKmQRcV18UKjGMtoako1OItj2QfBWfjlI0dxAbMQPb6Dw0dgWKDFSAUWFR/FC41iLKOpKdVg38eyL3J9++UrR3EBsxBBvoMD3xAtzyIsmJ8LFfgEID5taPuBDZ1zjKVjhfuQAd/Hsi/WffvlK0dxAbMQQb6CY/Xq1eIAK1rxwl9TxsfXfRQvxrIQ8AVW4etYRgqLiOU7R3ktYPgDbDhpPj61atXygoO++MSqV69e4dIH/igfvmsQC7PrD774d9y4cc5x0A/fWCYvNC5cEFlyiHNU5fnZZ47yWsAsxRirYQaYAWaAGWAG/L7Ml/lmBpgBZoAZYAZsMcBnYLaYZD3MADPADDADXhngAuaVbgZjBpgBZoAZsMUAFzBbTLIeZoAZYAaYAa8McAHzSjeDMQPMADPADNhigAuYLSZZDzPADDADzIBXBriAeaWbwZgBZoAZYAZsMcAFzBaTrIcZYAaYAWbAKwNcwLzSzWDMADPADDADthjgAmaLSUXP999/r2yVr6nzX9dXPmby4THPRT7mga2onAEuYJVzWEMDJgd8q3rcsn37dpg/f37ckKqV6fzX9VXioI4/XV8lGEXdl5oL5rGoM19Mv7iAWZ7X559/vobGjz76CN59910YO3YsTJ8+PZC99dZbsGnTpmC7KI2w/+hXuC+KkygO1q9fD8OHD68h1vGn66uxE2/UmIuoeWAeOVCqhQEuYBZnChPttGnTAo0///wzNG/eHPAnPE6fPg1XXnkl/Pjjj0KOfc8880wwtgiNsP/oU7gvjhMdB1OmTIEHH3wQnnjiiRpiHX+6vho7AcDChQvDXaXZVucibh6S8Fga0tjRXDPABczi9Lz00kuwcePGGhrV7csvvxx++OGHQP7UU0/BoUOHgm1XjQEDBsAVV1zhSn2gV+e/ri+Ok0CZ0njnnXfOKGAo1vGn61NUiTNhdbtM7fBcxM0DxWOZeGNf88sAFzCLc9OnTx9xpqVT+cUXX8ADDzxQQ/T666/D8uXLa/S52mjXrp0r1YFenf+6PrmDjhMpU9dRBUzHn65P1YWXcsu6RM2Fbh4oHsvKIfudLwa8FzA8G8BLaffffz907doVHnnkEcGI7L/nnnuge/fucO+998KePXu0bOHlOBxz5513wu233w54zR6XV155BTp27CgKBRaLzp07w6BBg0RRUcfPnj070Ctxw/bgALx3hTpuu+02uOOOO+D6668HvPTywQcfCFypXyrr1auXbNZYv//++/Dwww/D1q1ba/TjT9ur98VUYZQvcszixYu1NgwdOhTuvvtu6NatG1x11VXBJctrrrlG2ID9knPUFcWl5EU3H1HYOv91fYgbxYn0T11HFTAdf7o+VVdcAZM+h2NB9uu4UHVjO4rPqPkMj3cVm2ibbi6i5oHiMew3bzMDWTDgvYChk5hMV65cKfzF4rB7927RxrOEzZs3izYWj0cffVS0dX9effVV0X3kyBGhb9++fWL7888/h1atWsHXX38ttg8cOCDWUeNRqLMHL+3dcMMNcOrUKfjuu+9EsUAsvAR4yy23wMGDB4Xe/v37A94MxwULR9SC46+77rqgoOC4VatWwcSJE6N2gShfomzA4oq27dixQ+icNGkSSP91PkrgKG508xGFjbp0/v/ud7+TMGesdZycMQgAogqYjr9wH8bTqFGjYPTo0WKNBVy2cb106dIakFE86biosaOyEcVn1HxGjUeVOnvSxCbqipoL3TyEeVTc4yYzkBsGMilg6uUsPIvCR3dxUfvxoLrxxhsjiXrvvffgoYceEkkTz+ikDkwS2B9eosaHce+66y6h6/Dhw3DttdeKQvXVV18F317xIQA8s8FxaPutt94anAGGv+FicsQzRLlge/LkyXITlixZAlOnTg22w40oX+JswML97LPPwn333SfuG+3fv1+oVbmVPkq8KG7UfXA+sKDjN/Ok/qN+U06kTeo6qoDp+NP1qbrizsBwnOpzkWITfVPnotLYVDnlNjOQFQOZFDD8VikXNUlgv7wn9OabbwY37vF/V/BSi1wwSeElQpmcu3TpEhSwzz77LNgvbrx8GhDHRNnTvn17UaSwGGzbtk2ok2cgeLaDy5dffgmrV68W7cceewyw8Mnlk08+gRdeeEFsov2Y+KV/2Dlnzpwa/w8W9lPnC+4XZQOeyd50002BDaj/tddeE/hRPsZxqZsP5A3P8pL4j8BJOFmxYoWwES+xqvMsOmPOwML84Xhdn9SDa6qARfGk4wL1hecsjk/dfOrGu4hNtFWdC9PYVDnkNjOQFwa8FzB8uqlFixaAN5TxkXN8Og7vT+FlEUwS+Mg0bvfr1y+4/NWpUyf49ttvA86wcPXt21fc5+nZs6c428BLkePGjRP3wNq2bSvOkPAyCC7qePwWigUJx+PlpSh78Izj6quvFgUM78cNHDgQtmzZIvR9/PHHgEUT7+GhbNeuXaIf7198+umnoi3/zJgxA/CGOP4f08yZM2W3WGPfTz/9FPSpfsp7JmFf5GCdDXjpEIsu3gdE29DXP/3pT5E+YrGN4yZqPnTYaJfOf11fFCe//e1vQRYz6SfGCF72Q1uw+OC8yCXMH/br+uR4XMcVsKhYKEJsou84F/KYwO2oeUAZxSOO4YUZyJoB7wUszmH18k3cOB8yLCCy4Jw8eRK++eYbUbTisLEYyDOuuHFShgkzz4vpfOj81/VF+Yz3G8NfAKLGYr+OP12fqiPtG1BMuVAxbbfTxCbaYDIXFI+2fWJ9zEAaBnJVwPBbdl4WLETqK6F27twpztoo+/Afb/fu3UsNEw+ZpE2mpHJLA9LMh85/XZ/OROTj6NGjOtEZfXivL8yfru+MHVN2pOEiJRS5W9rYRMVJ5sIlj6RzPIAZMGAgNwXs6aefFpcW8dJgHhZ8G8GQIUPE5Su8T4eXHfFNBtSCZxHyzC1qLJ7Rvfzyy1HiXPSnnQ+d/7o+nZPq/UOdXPbp+NP1yfGVrtNyUSlu1P5pYxP1UXPhkscof7ifGUjLQG4KWFoHqnE/PJtLeqZRjf65tlnHn67PtR1F1M88FnFWi+sTF7Dizi17xgwwA8xAoRngAlbo6WXnmAFmgBkoLgNcwIo7t+wZM8AMMAOFZoALWKGnl51jBpgBZqC4DHABK+7csmfMADPADBSagdwUMHyF0IkTJ7yQ7RPLi0MFB/E5X4xV8GCqwD2OjQrI+8uutjnMRQHD/2vB1x9dcMEFcNZZZ3n51K5dG/CVSK4/+NYEfBu6axzUr76hofJQy4eGLGKjTp06XmIQY903Vj5mtfqs4Di0l5cx5m0tmRcwDIwOHTqIAoZtl4uKhcnD9YJvNMAPFhfXi08s175I/ep8+YyNomL5iHk5d0VacxxWPpsqhzbj0H0Wj/Fddcp30rBJos5FWVBQ5rqA+cTS+eqiL8vYcOGP1JmlX65jXvpYpHWW8+WSxyz9shmHmRWwLAnEwLBJYjjQ1IKCMpcFzCdW2E9X21nHRlH9chnzrjjLUi/HYeXs6zi0GYeZFDCdU5VTpdcQhWWTRBU5XFBQ5qqA+cRSfXTZjpovF5hlw3IV8y7mJmudZYsNF3xHcWgzDr0XsCinfBKIWDZJlLbrCgrKXBQwn1jSP9frvMSGbT/z4peLmLfNVR705WW+bHORF79sxqHXApYXAjEwbJKI+qIKCspsFzCfWLYPoih9eYqNKBvT9OfJL9sxn4aPvO+Tp/myyVWe/LIZh94KWJ4IxMCwSWJcQUEsmwXMJ5bNAyhOV95iI85WE1ne/LIZ8yY8VMvYvM2XLd7y5pfNOPRWwPDny2+77TZAMl0vSbBskYi/YYW/1hy32CpgPrHi/LEtSzJftjDLjGUr5m3NRd70lDk2bM1FEg5txqG3AoYE1a9fX5z5oAOuP/Xq1RNnPlg8dB/E1/Wn6Zs4cWKsrhdffDFWboIZ/hXicOChrmpcfMZGrVq1nMefjG+fWMhh3II28RLPAMdh5bnZZxx6jWifBxCFRcnjw7ymlCoalLymtvgtShclj9eendTmfFBelBXLp9/UHORV7pOjsmLZ9JsLmIUjiSoalNzEBEoXJTfB8jnWZlBTdpcVy6ff1BzkVe6To7Ji2fSbC5iFI4kqGpTcxARKFyU3wfI51mZQU3aXFcun39Qc5FXuk6OyYtn0mwuYhSOJKhqU3MQEShclN8HyOdZmUFN2lxXLp9/UHORV7pOjsmLZ9JsLmIUjiSoalNzEBEoXJTfB8jnWZlBTdpcVy6ff1BzkVe6To7Ji2fSbC5iFI4kqGpTcxARKFyU3wfI51mZQU3aXFcun39Qc5FXuk6OyYtn0mwuYhSOJKhqU3MQEShclN8HyOdZmUFN2lxXLp9/UHORV7pOjsmLZ9DvXBWzevHnQokULuPTSS6FLly5w8ODBxHFPkRSWb9iwASZMmADjxo2D2bNnG/3DNVU0wnKfWIkJy3hgeD4oc1zGhg67R48eMHr0aJ0ots/Ur2nTpkHLli2hdevW0LZtW1izZk2sflVIYVFyVVdZ26YccRyeGSkUh5T8TI3RPbktYLt27YLzzz8ftmzZIqx//PHHoW/fvtGehCQUSaoc33AxcuRI2Lt3r9CyePFiwMBMuoQLVHg/Ve4TK2xHnrfV+aDsdB0bKv769euhXbt20KBBA+cFDL/YNGzYEHbs2CFMWLBgATRq1Eg1J7ZNcUjJY5WXRGjCEcehPigoDim5Xqu+N7cFDF9JctNNNwVWb926Fc4555xgm2pQJKnydevWwRtvvBGo3LdvHwwbNizYphpqgdKNVeU+sXS25LVPnQ/KRtexoeL369cPpk+fDj179nRewDDGsWjJBQsZvtXgxIkTsit2TXFIyWOVl0RowhHHoT4oKA4puV6rvje3BWz48OHQp0+fwOqTJ09C7dq1E19GpEhS5cuXL69xxnXq1CkYNGhQ4suIaoEKDFYaqtwnlmJC7pvqfFDGuo4NHb6vS4gqdvfu3cWlc7Uvrk1xSMnjdJdFZsIRx6E+KigOKbleq743twXsueee0xawI0eO6D0J9VIkqfJly5ZpC9jx48dDWvWbaoHSjVDlPrF0tuS1T50PykbXsaHD91nA8DJz586doU2bNnDgwAGdOdo+ikNKrlVask4TjjgO9cFBcUjJ9Vr1vbktYHjZpmPHjoHVeHnl3HPPDbapBkWSKsefKJk5c2agEi8hjhgxItimGmqB0o1V5T6xdLbktU+dD8pG17Ghw/dVwLZt2yYe4ujWrVviKwDSXopDSi71lHltwhHHoT5SKA4puV6rvje3BWznzp1w4YUXwubNm4XlTz75JPTq1UvvhaaXIkmVHzp0CEaNGgV79uwRmj788EOYO3euRqu+Sy1QuhGq3CeWzpa89qnzQdnoOjZ0+D4KGD5E1LhxYxg8eLDOBLKP4pCSkwAlGGDCEcehPiAoDim5Xqu+N7cFDM1duHCh+DZ62WWXwc033wx4ZpR0oUgK8eoICQAAFFBJREFUyzdt2iQeox8/frx4oOPo0aNJocRPpcQNVgsYjvOJFWdXnmTh+aBscxkbOmwfD3EMHToU6tatKx6hb9WqFeAHH6eXT8fq7FL7KA4puaqrrG1TjjgOz4wUikNKfqbG6J5cF7Bos2kJRRIlpxH+f0S4QP2/5P9alDw8Pm6b0kXJ43RnKbM5H5QfZcXy6Tc1B3mV++SorFg2/S5lATt9+rT4QUNbBxFVNCi5iR2ULkpuguVzrM2gpuwuI5btmKc4rlZ5GWPD9lzFcWg7DktXwH755RfxcAg+ko/J3sYn7heXX3nlFXjssces4KCtFBbey6vGJS7o5YMvNuYKdSBWlC6cL+QwSm7anwesDz74QFyKP/vss6sxNLzaHBeHtg0pG5bMvXXq1LFGZakKGBLYoUMHUcBsBg8mNd2CiRc/UXLdPlRflC4XWJQtNuVR8+HCrzJhYcxfddVVcPXVVwMWMl7iGYiKjfi90knLhOUq95amgKkEYttm8OiKiky8GNo6ebqQ1+tyhZXWxjT76ebDlV9lwVKLF7ZtxmGaOa6GfXSx4crusmC5zL2lKGBhAjEgbQZPODGoiRexwvJKDoiwLpdYldhpum94Plz6VQascPGyHYem81st48Ox4dLuMmC5zr2FL2A6AjEobQaPWlTCiRexVHmlB4SqyzVWpbaa7K/Oh2u/io6lK16249BkbqtprBobru0uOpaP3FvoAhZFIAamzeCRRUWXeBFLym0cEFKXDywb9ibVIefDh19FxooqXrbjMOm8Vts4GRs+7C4ylq/cW+gCJh/YQDLDi83gwaISlXgRVxadsA1ptn1ipbEv7T44H744LDKWfGBDF/M24zDtPOd9P5t5gfK1yFi+cm8hCxgevBgc+C5F3YGMgWUzePDRa0y+UYvNxOETK8ofF/04H744LCKWjHl82jAq5m3GoYsYyINOm3mB8qeIWDIOfeXeQhYw/J0eDI6oAxkDy1bw4JvDp0yZEhurthKHT6xYhywL0S9qPmxyWEQsjEEq5m1xaHn6c6WOig2bxhYRy2fuxbnwWsBq1aolDjKcOB8fPGCjPogfJTPtHzhwYKyuuH8+NsWaOHFi7DGE+qpxqVevnpeY8BF3WWEgh3FLtcZGnE+2Zb5zVFax4hIXOYxbENvWYk9TAotsGk7BUViUnNKvyqnEQMlVXVSb0kXJKf1ZySm7KbmJ3ZQuSs5YJgxU11ibeYHyvKxYNv3mAkZFWQI5lfAoeQKIYAili5IHinLWoOym5CbuULooOWOZMFBdY20mV8rzsmLZ9JsLGBVlCeRUwqPkCSCCIZQuSh4oylmDspuSm7hD6aLkjGXCQHWNtZlcKc/LimXTby5gVJQlkFMJj5IngAiGULooeaAoZw3Kbkpu4g6li5IzlgkD1TXWZnKlPC8rlk2/uYBRUZZATiU8Sp4AIhhC6aLkgaKcNSi7KbmJO5QuSs5YJgxU11ibyZXyvKxYNv3mAkZFWQI5lfAoeQKIYAili5IHinLWoOym5CbuULooOWOZMFBdY20mV8rzsmLZ9JsLGBVlCeRUwqPkCSCCIZQuSh4oylmDspuSm7hD6aLkjGXCQHWNtZlcKc/LimXT79wXsB49esDo0aOpWDhDTpGkk8+dOxdWrVp1hi6qg0p4OrlPLMr+PMh1HKl2heUbNmyACRMmwLhx42D27Nmx/7Su6sF2WFcSua/5wreRoF/4/36TJ0+G7du3h82L3E7jV6Sykgp0eYGiwlWOCuNOmzZN/DBp69atoW3btrBmzZrwkMhtU7/Gjh0LTZs2hebNm0OnTp1g165dkbrDAgqLkof1xW3ntoCtX78e2rVrBw0aNHBewHBypk6dCkOHDnVewHxixU183mQmyRff3DFy5EjYu3evcGPx4sUwb968xC6ZYPmcr927d4tYP3TokPBl48aN4he4kzpm4ldSnWUbZ5JcXecolXv8wtawYUPYsWOH6F6wYAE0atRIHRLbNvFr7dq10KRJEzh48KDQ2b9/f+jdu3esflVIYVFyVRfVzm0B69evH0yfPh169uzpvIDNnz9fvIfPx7dsn1jU5FPySy65hBpiTW6SfNetWwdvvPFGgL1v3z4YNmxYsE01TLB8zhf6gUVLLljIhgwZAqdOnZJdsWsTv2IVlVhoklxd5yh1GrZu3QpYtOSChax+/fpw4sQJ2RW7NvELFZ08eVLoO3r0KHTt2hUGDBgQq18VUliUXNVFtXNbwKThrk7PdST6KGDSL59YEtN0femll5ruknq8SfJdvnx5jTMuTPCDBg1KfBnRBEs6lMV8vf322+LyqLSBWqfxi9JpQ46X5fHlrngpSv2sWLHChnqrOnR5gQJwlaPicLt37w5dunSJG1JDlsYvjPnzzjsPLrroIti8eXMNfXEbFBYlj9MdlnEBUxjxmaR8Yikukk0sDphs8IMFTCYc18nGJPkuW7ZMW8COHz9O+ocDTLCkQp/zhX7MmjUL8JcHjh07Jk0g12n8IpWWbECa5OqzgOHl886dO0ObNm3gwIEDiWcnjV9S+aRJk+Diiy+Wm+SawqLkJIAygAuYQobPJOUTS3HRqJnXS4j4oMPMmTMDX/DS24gRI4JtqpEm0fuar/3794uHOPDsS17GofyR8jR+yX1druUZmPxiJM/GXH8pSuNTmuTqq4Bt27ZNPMTRrVu3xFcbJAcmfuHZljo3eIWjTp06wT1nqTNqTWFR8ii9un4uYAorvpIUQvrEUlw0aub1EiLeGxo1ahTs2bNH+PPhhx8KPpM6lybR+5ivI0eOwJgxY2Dp0qVJXakxLo1fNRTwhvhFBFMafBQwfGCpcePGMHjwYFPzxHiTooFXYfCyoTy+8AG3Vq1aJcalsCh5YiDfP6eSxnAfD3FIwnwkqSywJGae16bJd9OmTeJMZfz48eKBDrzZnHQxxUK9PmIDL41igsJH6NUPFrYkSxq/kugt05g85SiVd3xCum7duoCP0GMxwQ+25ZO46lhd29QvjL9mzZoJjPbt2wM+RJJ0obAoeVIcHJf7MzATZ9SxFEmUXNVFtX0mDp9YlN825T79YiybM1csXTbzAsVMWbFs+l3KAnb69OlUlwqiArKoCTHKXxf9ReWwqH65iIE86LSZXCl/yohlO/eWroD98ssv4gm72rVrx/6KMiaepJ+4X1zGJ8kee+yxxLooTAoL7w1V4xKX6PGhDfSL4iapnOLQ53z5xKrW2PAZz2UsKrb5jeJQ5l58IMTWUqoChgR26NBBFLAoktMQG5V8MfHiJ0qed6w09qXdJ4qjauewqH6lnee872czL1C+lgnLVe4tTQFTCcS2zeDRJSmZeDGIdXIquKPkOl2usKJscNHv0y/GcjGDxdBpMy9QjJQFy2XuLUUBCxOIgWUzeMIJUS0oiBWWU4EdJw/rcokVZ4dtmU+/GMv27BVHn828QLFSBizXubfwBUxHIAaWzeBRE2K4oCCWKqeCmpKrulxjUbbYlPv0i7FszlyxdNnMCxQzRcfykXsLXcCiCMTAshk8MiHqCgpiSTkV0EnkUpcPrCT22Brj0y/GsjVrxdNjMy9Q7BQZy1fuLXQBkw9sIJnhxWbwYEKMKiiIKxNm2IY02z6x0tiXdh+ffjFW2lkq/n428wLFVpGxfOXeQhYwLFgYHPjONV3xwsCyGTz4qDwWsKjFZgHziRXlj4t+n34xlosZLIZOm3mBYqSIWL5zbyEL2IwZM0SBiipeGFi2ggffDj1lypTYWLVVwHxixTpkWejTL8ayPHkFU2crLyShpYhYPnMvcuy1gNWqVUsUDpw4Hx8sHFEfxI+SmfYPHDgwVlfcP86aYuE7yuIW1FeNC/oVx4VNDn3Ol0+sosaGz3j2naN85EHfGMhh3IL22FrsaUpgkU3DKTgKi5JT+lU5VTQouaqLalO6KDmlPys5ZTclN7Gb0kXJGcuEgeoaazMvUJ6XFcum31zAqChLIKcSHiVPABEMoXRR8kBRzhqU3ZTcxB1KFyVnLBMGqmuszeRKeV5WLJt+cwGjoiyBnEp4lDwBRDCE0kXJA0U5a1B2U3ITdyhdlJyxTBiorrE2kyvleVmxbPrNBYyKsgRyKuFR8gQQwRBKFyUPFOWsQdlNyU3coXRRcsYyYaC6xtpMrpTnZcWy6TcXMCrKEsiphEfJE0AEQyhdlDxQlLMGZTclN3GH0kXJGcuEgeoaazO5Up6XFcum31zAqChLIKcSHiVPABEMoXRR8kBRzhqU3ZTcxB1KFyVnLBMGqmuszeRKeV5WLJt+cwGjoiyBnEp4lDwBRDCE0kXJA0U5a1B2U3ITdyhdlJyxTBiorrE2kyvleVmxbPqd6wI2bdo0aNmyJbRu3Rratm0La9asoWIikFMkheX4Jo0JEyYA/i/N5MmTYfv27YEuqkElvLDcJxZle17kYY7CdoXlGzZsEPM1btw4mD17duQbV8J6cDusKzxGJ587dy6sWrUqPJTc1ulSdwrLOTZUdvy3w3mBssBljgpjjx07Fpo2bQrNmzeHTp06wa5du8JDIrdN/UJFc+bMgbPPPjtSZ5SAwqLkUXp1/bktYJigGjZsCDt27BB2L1iwABo1aqTzQdtHkaTKd+/eDaNHj4ZDhw4JXRs3bgT8x9mkSzgJhfdT5T6xwnbkeVvlSGenKse3aYwcORL27t0rhi5evBjmzZun203bp+rSDVDlmCSmTp0KQ4cOdV7AODZ0s+G3T80LFLLrHKXir127Fpo0aQIHDx4U3f3794fevXurQ2LbJn6hIsyB//iP/wi/+tWvYvXqhBQWJdfpjOrLbQHbunUrYNGSCxay+vXrw4kTJ2RX7JoiSZXv27dPTJhUiIVsyJAhcOrUKdkVu1YTnm6gKveJpbMlr30qRzobVfm6devgjTfeCIYhp8OGDQu2qYaqSzdWlc+fP1+859LHGRjHhm42/PapeYFCdp2jwvgnT54UXUePHoWuXbvCgAEDwkMit038wi+Iv/nNb+D999/nAqYyakKiuh+2u3fvDl26dAl3R25TWHHyt99+W1yWilQeEqgJLyQSm3Fyn1g62/LSF8cR2qjKly9fXuOMC79oDBo0KPFlRFWXzn+d3EcBC9vCsRFmxP12XF6g0G3nKB0exuF5550HF110EWzevFk3RNtn4tddd90Fr732GmCB5jMwhU4TEuVu+G2gc+fO0KZNGzhw4IDsJtcUlk5+/PhxmDVrFuDbyo8dO0ZiyAG6hCdluNbJfWKptuS1reNItVWVL1u2TFvAkNMki6pLN14n91nAODZ0s+KnT5cXKGRXOSoOd9KkSXDxxRfHDakhS+rX+PHjoVevXmLfP/7xj1zAVBaTkij32bZtm3iIo1u3bom/Xct9KaywfP/+/eKhAPzWK0/VpS5qrUt46j5huU8s1Y48t8MchW1V5figw8yZM4MheOltxIgRwTbVUHXpxurkvgoYx4ZuRvz1hfMChewyR6nYeLa1YsWKoAuvOtSpUye4DxwIIhpJ/bryyivFQyL44Nxll10mMLD95z//OULzmd0UFiU/U2N0T27vgeEN+saNG8PgwYOjrY+RUCSp8iNHjsCYMWNg6dKlMRqjRbqEp45W5T6xVBvy3lY50tmqyvEe5ahRo2DPnj1i6IcffghYYJIuqi7dPjq5jwLGsaGbDb99al6gkF3nKBUfL5vjZUMZ8/hgUatWrdQhsW0Tv6QivIT4t3/7t3Iz8ZrCouSJgXz/nIqJ4fjUV926dcUj9DhR+MFvAvLJM8pJCkuV4yUpLJT4CL36wYSSZNElPHU/Ve4TS7Uh722VI52tYfmmTZvEGTNe8sAHOvDGdtIlrCu8n07uo4BxbIRnwv+2mhcodNc5KoyPualZs2YiD7Zv317cowqPido28Uvq4Htgkom/rNOQGFKReJPCouSJgSLucan76xKiKjdpU7oouQmWz7GU3ZTcxFZKFyVnLBMGqmuszbxAeV5WLJt+5/YSIjX5lDyOpNOnT1v7RWa0g0p4lJzyRZVTuii5qitPbcpuSm7iC6WLkjOWCQPVNTYub9j2pIxYtnNv6QrYL7/8Ah07doRzzz1XFB5MVpV+4n4tGJ9oxPs1lWLI/Sks9eEG2wecS33oX9QiH9qQHFS6pjj0OV8+sao1NqLiwkV/GYuKbR6jOJS594ILLrAGWaoChgR26NBBFDBs21qiki8mXvzYXHxi2bSb0uXTL8aiZqO88qjk64KRMmG5yr2lKWCuCMTA1iVEF8XLN5aLgzZKZ1E5LKpfUfNY7f1lKiqu5irMocvcW4oC5pJADIJwknJVvHxjuQpwnd6iclhUv3RzWIS+cPJ16VMZsFzn3sIXMNcEYoCrScpl8fKN5fLgDesuKodF9Ss8f0XZLkNRcT1XkkMfubfQBcwHgRgMMkm5Ll6+sVwHuqq/qBwW1S917orUlsnXh09FxvKVewtdwFw8sKELbExSPooXYvvE0vnqqs+nX4zlaharX2+Ri4qv2UEOfeXeQhYwrP5IIj4uj23XCz4qjwXMx+ITy4c/EsOnX4wlWed1mAEuYGFGzLZ9595CFrAZM2aIAuajeOGbqKdMmWI2yylH+8RKaWKq3Xz6xVippqg0O3EBq2yqfeZetNRrAcMfpMQA8fGpV6+euNyGl4tcf/AdZa4xpH78gcUiLuiX9NH12ud8+cQqamz4jHefOapWrVpeciHmW59YyKGvxWsB8+UU4zADzAAzwAwUnwEuYMWfY/aQGWAGmIFCMsAFrJDTyk4xA8wAM1B8BriAFX+O2UNmgBlgBgrJABewQk4rO8UMMAPMQPEZ4AJW/DlmD5kBZoAZKCQDXMAKOa3sFDPADDADxWeAC1jx55g9ZAaYAWagkAxwASvktLJTzAAzwAwUnwEuYMWfY/aQGWAGmIFCMsAFrJDTyk4xA8wAM1B8BriAFX+O2UNmgBlgBgrJwP8CMojyl40IZ5oAAAAASUVORK5CYII=)"
      ]
    },
    {
      "cell_type": "code",
      "metadata": {
        "id": "6B_3J9TbNLFd"
      },
      "source": [
        ""
      ],
      "execution_count": null,
      "outputs": []
    }
  ]
}