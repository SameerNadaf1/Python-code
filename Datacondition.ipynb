{
  "nbformat": 4,
  "nbformat_minor": 0,
  "metadata": {
    "colab": {
      "name": "Datacondition",
      "provenance": [],
      "collapsed_sections": [],
      "include_colab_link": true
    },
    "kernelspec": {
      "name": "python3",
      "display_name": "Python 3"
    }
  },
  "cells": [
    {
      "cell_type": "markdown",
      "metadata": {
        "id": "view-in-github",
        "colab_type": "text"
      },
      "source": [
        "<a href=\"https://colab.research.google.com/github/SameerNadaf1/Python-code/blob/main/Datacondition.ipynb\" target=\"_parent\"><img src=\"https://colab.research.google.com/assets/colab-badge.svg\" alt=\"Open In Colab\"/></a>"
      ]
    },
    {
      "cell_type": "markdown",
      "metadata": {
        "id": "LQnXK3Gw14UR"
      },
      "source": [
        "USN:01FE20MCA062,\n",
        "\n",
        "NAME:SAMEER NADAF"
      ]
    },
    {
      "cell_type": "markdown",
      "metadata": {
        "id": "L7EkAvjSUpvt"
      },
      "source": [
        "Python code to demonstrate data type and conditional statements"
      ]
    },
    {
      "cell_type": "markdown",
      "metadata": {
        "id": "DwZY2nv6-4P7"
      },
      "source": [
        "Integer types"
      ]
    },
    {
      "cell_type": "code",
      "metadata": {
        "id": "u4-YdCul-919"
      },
      "source": [
        "a = 5\n",
        "print(\"Type of a: \", type(a))\n",
        "\n",
        "\n",
        "#another type\n",
        "b=123\n",
        "print(\"Type of a: \", type(b))"
      ],
      "execution_count": null,
      "outputs": []
    },
    {
      "cell_type": "code",
      "metadata": {
        "id": "_qP-Xef7Yi9a"
      },
      "source": [
        ""
      ],
      "execution_count": null,
      "outputs": []
    },
    {
      "cell_type": "markdown",
      "metadata": {
        "id": "d6YF48p0_sPn"
      },
      "source": [
        "Long Integer"
      ]
    },
    {
      "cell_type": "code",
      "metadata": {
        "id": "_k8bdgti_zFe"
      },
      "source": [
        "a = 5322763676;\n",
        "print(\"Type of a: \", type(a))"
      ],
      "execution_count": null,
      "outputs": []
    },
    {
      "cell_type": "markdown",
      "metadata": {
        "id": "L_wVORW_BMYJ"
      },
      "source": [
        "Float"
      ]
    },
    {
      "cell_type": "code",
      "metadata": {
        "id": "l0g3E-ocBTkY"
      },
      "source": [
        "f=15.20\n",
        "print(\"Type of a: \", type(f))\n",
        "a=32.54e100\n",
        "print(\"Type of a: \", type(f))"
      ],
      "execution_count": null,
      "outputs": []
    },
    {
      "cell_type": "markdown",
      "metadata": {
        "id": "w5a9bjvKCaNZ"
      },
      "source": [
        "Boolean "
      ]
    },
    {
      "cell_type": "code",
      "metadata": {
        "id": "21o02w15CiFR"
      },
      "source": [
        "a=10\n",
        "b=9\n",
        "print(a > b)\n",
        "print(a == b)\n",
        "print(a < b)"
      ],
      "execution_count": null,
      "outputs": []
    },
    {
      "cell_type": "markdown",
      "metadata": {
        "id": "9AeDERGD2ttE"
      },
      "source": [
        "Complex number"
      ]
    },
    {
      "cell_type": "code",
      "metadata": {
        "id": "r2_rIS6928D7"
      },
      "source": [
        "x=2+3j\n",
        "           print(x)\n",
        "           y=4+5j\n",
        "           print(y)\n",
        "           print (x+y)\n",
        "           print (x-y)\n",
        "           print (x/y)\n",
        "           "
      ],
      "execution_count": null,
      "outputs": []
    },
    {
      "cell_type": "markdown",
      "metadata": {
        "id": "14iFZrc73Opu"
      },
      "source": [
        "Conjugate Complexe "
      ]
    },
    {
      "cell_type": "code",
      "metadata": {
        "id": "m3zjXNMK3YEy"
      },
      "source": [
        "z=2+3j\n",
        "        y=z.conjugate()\n",
        "        print(y);"
      ],
      "execution_count": null,
      "outputs": []
    },
    {
      "cell_type": "markdown",
      "metadata": {
        "id": "HFf96gk63gDS"
      },
      "source": [
        "      Multiple Variable"
      ]
    },
    {
      "cell_type": "code",
      "metadata": {
        "id": "il89IWor3h4f"
      },
      "source": [
        "x=y=z=1\n",
        "print(x);\n",
        "print(y);\n",
        "print(z);"
      ],
      "execution_count": null,
      "outputs": []
    },
    {
      "cell_type": "markdown",
      "metadata": {
        "id": "1sqkz5Sn3miH"
      },
      "source": [
        "           Multiple Variable"
      ]
    },
    {
      "cell_type": "code",
      "metadata": {
        "id": "DesXpz3n3vDP"
      },
      "source": [
        "x=y=z=200\n",
        "         print (x)\n",
        "         print (y)\n",
        "         print (z)"
      ],
      "execution_count": null,
      "outputs": []
    },
    {
      "cell_type": "markdown",
      "metadata": {
        "id": "yij0rrXa30lP"
      },
      "source": [
        "String Types"
      ]
    },
    {
      "cell_type": "markdown",
      "metadata": {
        "id": "jHC5fbdw45Kq"
      },
      "source": [
        "    String print by index"
      ]
    },
    {
      "cell_type": "code",
      "metadata": {
        "id": "cs9r1maj4-pr"
      },
      "source": [
        "str1 = 'Hello World'\n",
        "str2 = \"Python Programming\"\n",
        "print (\"var1[0]: \",str1[0]);\n",
        "print (\"var2[1:5]: \",str2[1:5]);\n",
        "\n",
        "var1 = 'Hello World'\n",
        "print (\"Updated String :- \", var1[:6] + 'Python')"
      ],
      "execution_count": null,
      "outputs": []
    },
    {
      "cell_type": "markdown",
      "metadata": {
        "id": "JyzGlseh5GXQ"
      },
      "source": [
        "      string concat"
      ]
    },
    {
      "cell_type": "code",
      "metadata": {
        "id": "vwS4S99U5P9I"
      },
      "source": [
        "str1=\"hello\"\n",
        "str2=\"world\"\n",
        "str3=str1+str2\n",
        "print(str3)"
      ],
      "execution_count": null,
      "outputs": []
    },
    {
      "cell_type": "markdown",
      "metadata": {
        "id": "06w7ekvv5GcB"
      },
      "source": [
        "    String concat"
      ]
    },
    {
      "cell_type": "code",
      "metadata": {
        "id": "YtqOs81P5cwa"
      },
      "source": [
        "print(\"hello \"+\"world\")\n",
        "print(\"Nayak\"+\".\"+\"patil\")"
      ],
      "execution_count": null,
      "outputs": []
    },
    {
      "cell_type": "markdown",
      "metadata": {
        "id": "hI4a8Kg7DbvA"
      },
      "source": [
        "       String newline"
      ]
    },
    {
      "cell_type": "code",
      "metadata": {
        "id": "tYx87cTbD0zU"
      },
      "source": [
        "  print(\"first message\\n\\n\");\n",
        "  print(\"second message \\n\\n\\n\");"
      ],
      "execution_count": null,
      "outputs": []
    },
    {
      "cell_type": "markdown",
      "metadata": {
        "id": "hbZ3beLnFkP_"
      },
      "source": [
        "Conditional Statements if,ifelse,nested if while"
      ]
    },
    {
      "cell_type": "markdown",
      "metadata": {
        "id": "tkTm1KvTF5KK"
      },
      "source": [
        "if statements"
      ]
    },
    {
      "cell_type": "code",
      "metadata": {
        "id": "fNgZRAqzF8Gy"
      },
      "source": [
        "num = 3\n",
        "if num > 0:\n",
        "    print(num, \"is a positive number.\")"
      ],
      "execution_count": null,
      "outputs": []
    },
    {
      "cell_type": "markdown",
      "metadata": {
        "id": "xelzym9tGMbY"
      },
      "source": [
        "if else"
      ]
    },
    {
      "cell_type": "code",
      "metadata": {
        "id": "r3VjgGKnGQMk"
      },
      "source": [
        "  i = 20; \n",
        "if (i < 15): \n",
        "    print (\"i is smaller than 15\") \n",
        "    print (\"i'm in if Block\") \n",
        "else: \n",
        "    print (\"i is greater than 15\") \n",
        "    print (\"i'm in else Block\") \n",
        "print (\"i'm not in if and not in else Block\") "
      ],
      "execution_count": null,
      "outputs": []
    },
    {
      "cell_type": "markdown",
      "metadata": {
        "id": "SGDTJJbZG9jJ"
      },
      "source": [
        "elif statements"
      ]
    },
    {
      "cell_type": "code",
      "metadata": {
        "id": "L9BRPzeFHKPd"
      },
      "source": [
        "i = 20\n",
        "if (i == 10): \n",
        "    print (\"i is 10\") \n",
        "elif (i == 15): \n",
        "    print (\"i is 15\") \n",
        "elif (i == 20): \n",
        "    print (\"i is 20\") \n",
        "else: \n",
        "    print (\"i is not present\") "
      ],
      "execution_count": null,
      "outputs": []
    },
    {
      "cell_type": "markdown",
      "metadata": {
        "id": "0wXwwuLsHRIU"
      },
      "source": [
        "    elif 2"
      ]
    },
    {
      "cell_type": "code",
      "metadata": {
        "id": "a4EFY3nMHT02"
      },
      "source": [
        "var = 100\n",
        "if var == 200:\n",
        "   print (\"1 - Got a true expression value\")\n",
        "   print (var)\n",
        "elif var == 150:\n",
        "   print (\"2 - Got a true expression value\")\n",
        "   print (var)\n",
        "elif var == 100:\n",
        "   print (\"3 - Got a true expression value\")\n",
        "   print (var)\n",
        "else:\n",
        "   print (\"4 - Got a false expression value\")\n",
        "   print (var)\n",
        "\n",
        "print (\"Good bye!\")"
      ],
      "execution_count": null,
      "outputs": []
    },
    {
      "cell_type": "markdown",
      "metadata": {
        "id": "WVmfmziiHu0n"
      },
      "source": [
        "nested if"
      ]
    },
    {
      "cell_type": "code",
      "metadata": {
        "id": "6b9cWCQ6Hx3C"
      },
      "source": [
        "  num = 3.4\n",
        "if num > 0:\n",
        "    print(\"Positive number\")\n",
        "elif num == 0:\n",
        "    print(\"Zero\")\n",
        "else:\n",
        "    print(\"Negative number\")"
      ],
      "execution_count": null,
      "outputs": []
    },
    {
      "cell_type": "markdown",
      "metadata": {
        "id": "Wne2bEeYIT5D"
      },
      "source": [
        " while statements "
      ]
    },
    {
      "cell_type": "code",
      "metadata": {
        "id": "pg-gPM0NIX0h"
      },
      "source": [
        "count = 0\n",
        "while count < 50:\n",
        "    print(count)\n",
        "    count += 5"
      ],
      "execution_count": null,
      "outputs": []
    },
    {
      "cell_type": "markdown",
      "metadata": {
        "id": "ZnAL5k43IrME"
      },
      "source": [
        "       while 2"
      ]
    },
    {
      "cell_type": "code",
      "metadata": {
        "id": "P-60yD9kIyUM"
      },
      "source": [
        "  count = 0\n",
        "while count < 5:\n",
        "    print(count)\n",
        "    count += 1"
      ],
      "execution_count": null,
      "outputs": []
    },
    {
      "cell_type": "markdown",
      "metadata": {
        "id": "qy4fPwunI7Nq"
      },
      "source": [
        "  Forloop statements"
      ]
    },
    {
      "cell_type": "code",
      "metadata": {
        "id": "0nGO2mpOJBPe"
      },
      "source": [
        "string = \"Hello World\"\n",
        "for x in string:\n",
        "    print (x)"
      ],
      "execution_count": null,
      "outputs": []
    },
    {
      "cell_type": "markdown",
      "metadata": {
        "id": "iWRb1y9RJZWv"
      },
      "source": [
        "        forloop 2"
      ]
    },
    {
      "cell_type": "code",
      "metadata": {
        "id": "6GHUTWCDJcZ5"
      },
      "source": [
        "for x in range(10):\n",
        "    # Check if x is even\n",
        "    if x % 2 == 0:\n",
        "        continue\n",
        "    print(x)"
      ],
      "execution_count": null,
      "outputs": []
    },
    {
      "cell_type": "markdown",
      "metadata": {
        "id": "1npYg26TJpmv"
      },
      "source": [
        "           forloop 3"
      ]
    },
    {
      "cell_type": "code",
      "metadata": {
        "id": "duatctLWJs4A"
      },
      "source": [
        "for x in range(5):\n",
        "    print(x)\n",
        "# Prints out 3,4,5\n",
        "for x in range(3, 6):\n",
        "    print(x)"
      ],
      "execution_count": null,
      "outputs": []
    },
    {
      "cell_type": "markdown",
      "metadata": {
        "id": "h1pN5YKLJ07q"
      },
      "source": [
        "Continue Statements"
      ]
    },
    {
      "cell_type": "code",
      "metadata": {
        "id": "AQ0L8-B0KRpt"
      },
      "source": [
        "var = 10                    \n",
        "while var > 0:              \n",
        "   var = var -1\n",
        "   if var == 5:\n",
        "      continue\n",
        "   print 'Current variable value :', var\n",
        "print \"End of execution\""
      ],
      "execution_count": null,
      "outputs": []
    },
    {
      "cell_type": "markdown",
      "metadata": {
        "id": "5miLqbvmKaA-"
      },
      "source": [
        "breake statements\n",
        "\n",
        "\n",
        "\n"
      ]
    },
    {
      "cell_type": "code",
      "metadata": {
        "id": "0nM8vTFBKeLM"
      },
      "source": [
        "count = 0\n",
        "while True:\n",
        "    print(count)\n",
        "    count += 1\n",
        "    if count >= 5:\n",
        "        break"
      ],
      "execution_count": null,
      "outputs": []
    }
  ]
}