{
  "nbformat": 4,
  "nbformat_minor": 0,
  "metadata": {
    "colab": {
      "name": "Lists.ipynb",
      "provenance": [],
      "collapsed_sections": [],
      "authorship_tag": "ABX9TyNVFmWs5nbpFqgaKqmy0A2K",
      "include_colab_link": true
    },
    "kernelspec": {
      "name": "python3",
      "display_name": "Python 3"
    }
  },
  "cells": [
    {
      "cell_type": "markdown",
      "metadata": {
        "id": "view-in-github",
        "colab_type": "text"
      },
      "source": [
        "<a href=\"https://colab.research.google.com/github/SameerNadaf1/Python-code/blob/main/Lists.ipynb\" target=\"_parent\"><img src=\"https://colab.research.google.com/assets/colab-badge.svg\" alt=\"Open In Colab\"/></a>"
      ]
    },
    {
      "cell_type": "markdown",
      "metadata": {
        "id": "mcZgTo50EqK7"
      },
      "source": [
        "USN:01FE20MCAO62\n",
        "\n",
        "NAME:SAMEER NADAF"
      ]
    },
    {
      "cell_type": "markdown",
      "metadata": {
        "id": "ZJfLGCT0auEC"
      },
      "source": [
        "Sample List"
      ]
    },
    {
      "cell_type": "code",
      "metadata": {
        "id": "h9dSi7ZYazxX"
      },
      "source": [
        "list1=[1,2,3,\"abc\",\"xyz\"]\n",
        "print (list1[0])\n",
        "print (list1[3])"
      ],
      "execution_count": null,
      "outputs": []
    },
    {
      "cell_type": "markdown",
      "metadata": {
        "id": "f7A6MjH4a4Dk"
      },
      "source": [
        "sample list 2"
      ]
    },
    {
      "cell_type": "code",
      "metadata": {
        "id": "A2CJrdUfbEAN"
      },
      "source": [
        "list1=[1,2,3,\"abc\",\"xyz\"]\n",
        "print (list1[-1])\n",
        "print (list1[-2])"
      ],
      "execution_count": null,
      "outputs": []
    },
    {
      "cell_type": "markdown",
      "metadata": {
        "id": "xc_3RI0WbGBt"
      },
      "source": [
        "Maximum number"
      ]
    },
    {
      "cell_type": "code",
      "metadata": {
        "id": "AVi3HnhnbL51"
      },
      "source": [
        "list1, list2 = [10, 20, 300],['aaa', 'abc','cde','zzz']\n",
        "print (\"Max of First list : \", max(list1))\n",
        "print (\"Max of Second list : \", max(list2))"
      ],
      "execution_count": null,
      "outputs": []
    },
    {
      "cell_type": "markdown",
      "metadata": {
        "id": "FTBp6m01bRce"
      },
      "source": [
        "Minimum number"
      ]
    },
    {
      "cell_type": "code",
      "metadata": {
        "id": "-oHSXhckbYr-"
      },
      "source": [
        "list1, list2 = [10, 20, 300], ['aaa', 'abc','cde','zzz']\n",
        "print (\"Min of First list : \", min(list1))\n",
        "print (\"Min of Second list : \", min(list2))"
      ],
      "execution_count": null,
      "outputs": []
    },
    {
      "cell_type": "markdown",
      "metadata": {
        "id": "fdYpt9VPbdRz"
      },
      "source": [
        "List Pop Operation"
      ]
    },
    {
      "cell_type": "code",
      "metadata": {
        "id": "FRmJF_MybkZ7"
      },
      "source": [
        "List1 = [123, 200, 456, 500];\n",
        "List1.pop(2)\n",
        "print (\"Updated List after pop 2 operation: \", List1)\n",
        "List1.pop(0)\n",
        "print (\"Updated List after pop 0 operation: \", List1)"
      ],
      "execution_count": null,
      "outputs": []
    },
    {
      "cell_type": "markdown",
      "metadata": {
        "id": "9lfMalAnbsRy"
      },
      "source": [
        "List Reverce function"
      ]
    },
    {
      "cell_type": "code",
      "metadata": {
        "id": "437W0C38bzDC"
      },
      "source": [
        "List1 = [123, 'aaa', 'bbb', 'ccc', 'ddd'];\n",
        "List1.reverse();\n",
        "print (\"List reverse function: \", List1)"
      ],
      "execution_count": null,
      "outputs": []
    },
    {
      "cell_type": "markdown",
      "metadata": {
        "id": "IhT7Tzmhb3qh"
      },
      "source": [
        "List append "
      ]
    },
    {
      "cell_type": "code",
      "metadata": {
        "id": "_hc3Typib9Rz"
      },
      "source": [
        "List1 = [123, 'xyz', 456, 'abc'];\n",
        "List1.append( 2017 );\n",
        "print (\"Updated List : \", List1)"
      ],
      "execution_count": null,
      "outputs": []
    },
    {
      "cell_type": "markdown",
      "metadata": {
        "id": "zJAjP9ifcBRQ"
      },
      "source": [
        "List index"
      ]
    },
    {
      "cell_type": "code",
      "metadata": {
        "id": "9T9k7tbrcIHQ"
      },
      "source": [
        "List1 = [123, 200, 456, 500];\n",
        "print (\"Count of List1 for 123: \", List1.index(123))\n",
        "print (\"Count of List1 for 200: \", List1.index(200))"
      ],
      "execution_count": null,
      "outputs": []
    },
    {
      "cell_type": "markdown",
      "metadata": {
        "id": "XE_mOV0KcMK-"
      },
      "source": [
        "        List insert"
      ]
    },
    {
      "cell_type": "code",
      "metadata": {
        "id": "YR3pcBcmcW-H"
      },
      "source": [
        "List1 = [123, 200, 456, 500];\n",
        "List1.insert(3,600)\n",
        "print (\"Updated List after insertion 600: \",List1)\n",
        "List1.insert(1,1000)\n",
        "print (\"Updated List after insertion 1000: \",List1)"
      ],
      "execution_count": null,
      "outputs": []
    },
    {
      "cell_type": "markdown",
      "metadata": {
        "id": "tVUbdqdtccUD"
      },
      "source": [
        "List Length"
      ]
    },
    {
      "cell_type": "code",
      "metadata": {
        "id": "Oei2F8lKclaK"
      },
      "source": [
        "list1, list2 = [10, 'xyz', 'abc'], [220, 'abc']\n",
        "print (\"Length of First list : \", len(list1))\n",
        "print (\"Length of Second list : \", len(list2))"
      ],
      "execution_count": null,
      "outputs": []
    },
    {
      "cell_type": "markdown",
      "metadata": {
        "id": "8JqFvvs4cpmd"
      },
      "source": [
        "List Length"
      ]
    },
    {
      "cell_type": "code",
      "metadata": {
        "id": "1J5moTdKcweV"
      },
      "source": [
        "List1 = [123, 200, 456, 200];\n",
        "print (\"Count of List1 for 123: \", List1.count(123))\n",
        "print (\"Count of List1 for 200: \", List1.count(200))\n",
        "listlength=len(List1)\n",
        "print(listlength)"
      ],
      "execution_count": null,
      "outputs": []
    },
    {
      "cell_type": "markdown",
      "metadata": {
        "id": "FEeszWPEc4LV"
      },
      "source": [
        "Deletion of list"
      ]
    },
    {
      "cell_type": "code",
      "metadata": {
        "id": "QyXDISQzc-kF"
      },
      "source": [
        "my_list = ['p','r','o','g','r','a','m','m','i','n','g']"
      ],
      "execution_count": null,
      "outputs": []
    },
    {
      "cell_type": "markdown",
      "metadata": {
        "id": "sMXV9WPldB4g"
      },
      "source": [
        "Delete one item"
      ]
    },
    {
      "cell_type": "code",
      "metadata": {
        "id": "hl0y-TuUdLmC"
      },
      "source": [
        "del my_list[2]\n",
        "print(my_list)"
      ],
      "execution_count": null,
      "outputs": []
    },
    {
      "cell_type": "markdown",
      "metadata": {
        "id": "3uDcKwBhdO0X"
      },
      "source": [
        "Delete multiple items"
      ]
    },
    {
      "cell_type": "code",
      "metadata": {
        "id": "Z8czCUzHdWOW"
      },
      "source": [
        "del my_list[1:5]\n",
        "print(my_list)"
      ],
      "execution_count": null,
      "outputs": []
    },
    {
      "cell_type": "markdown",
      "metadata": {
        "id": "DK-lAqPbdYNc"
      },
      "source": [
        "Delete entire list"
      ]
    },
    {
      "cell_type": "code",
      "metadata": {
        "id": "lDQIVZrlEuEh"
      },
      "source": [
        "del my_list"
      ],
      "execution_count": null,
      "outputs": []
    }
  ]
}